{
  "cells": [
    {
      "cell_type": "markdown",
      "metadata": {
        "id": "H2NZV5c37Uai"
      },
      "source": [
        "Things I can do :\n",
        "- Use inner functions for preprocessing (since i wont use seg norma reflect ... in other places, I create them as inner functions)\n",
        "- we can use data augmentation if data is not sufficient and SMOTE to solve the problem of unbalanced data\n"
      ]
    },
    {
      "cell_type": "code",
      "execution_count": null,
      "metadata": {
        "colab": {
          "base_uri": "https://localhost:8080/"
        },
        "id": "u-xBpOiUh3hO",
        "outputId": "bdefe23c-d8bb-4adf-9567-7fee2d4c51d9"
      },
      "outputs": [
        {
          "output_type": "stream",
          "name": "stdout",
          "text": [
            "Looking in indexes: https://pypi.org/simple, https://us-python.pkg.dev/colab-wheels/public/simple/\n",
            "Collecting tensorflow_addons\n",
            "  Downloading tensorflow_addons-0.20.0-cp39-cp39-manylinux_2_17_x86_64.manylinux2014_x86_64.whl (591 kB)\n",
            "\u001b[2K     \u001b[90m━━━━━━━━━━━━━━━━━━━━━━━━━━━━━━━━━━━━━━\u001b[0m \u001b[32m591.0/591.0 kB\u001b[0m \u001b[31m10.0 MB/s\u001b[0m eta \u001b[36m0:00:00\u001b[0m\n",
            "\u001b[?25hCollecting typeguard<3.0.0,>=2.7\n",
            "  Downloading typeguard-2.13.3-py3-none-any.whl (17 kB)\n",
            "Requirement already satisfied: packaging in /usr/local/lib/python3.9/dist-packages (from tensorflow_addons) (23.0)\n",
            "Installing collected packages: typeguard, tensorflow_addons\n",
            "Successfully installed tensorflow_addons-0.20.0 typeguard-2.13.3\n"
          ]
        }
      ],
      "source": [
        "!pip install tensorflow_addons"
      ]
    },
    {
      "cell_type": "code",
      "execution_count": null,
      "metadata": {
        "colab": {
          "base_uri": "https://localhost:8080/"
        },
        "id": "E6s9poO_tlA0",
        "outputId": "ac91ebc8-2383-4d36-e2e0-0fce7b06c65f"
      },
      "outputs": [
        {
          "output_type": "stream",
          "name": "stderr",
          "text": [
            "/usr/local/lib/python3.9/dist-packages/tensorflow_addons/utils/tfa_eol_msg.py:23: UserWarning: \n",
            "\n",
            "TensorFlow Addons (TFA) has ended development and introduction of new features.\n",
            "TFA has entered a minimal maintenance and release mode until a planned end of life in May 2024.\n",
            "Please modify downstream libraries to take dependencies from other repositories in our TensorFlow community (e.g. Keras, Keras-CV, and Keras-NLP). \n",
            "\n",
            "For more information see: https://github.com/tensorflow/addons/issues/2807 \n",
            "\n",
            "  warnings.warn(\n"
          ]
        },
        {
          "output_type": "stream",
          "name": "stdout",
          "text": [
            "Mounted at /content/drive\n",
            "Number of replicas: 1\n",
            "2.12.0\n"
          ]
        }
      ],
      "source": [
        "from skimage.transform import hough_circle, hough_circle_peaks\n",
        "from skimage.feature import canny\n",
        "from skimage.filters import threshold_multiotsu\n",
        "import cv2 \n",
        "import numpy as np\n",
        "from sklearn.model_selection import train_test_split\n",
        "import csv\n",
        "\n",
        "\n",
        "from math import sqrt\n",
        "\n",
        "import tensorflow as tf\n",
        "import tensorflow_addons as tfa\n",
        "\n",
        "import os\n",
        "from google.colab import drive\n",
        "drive.mount('/content/drive')\n",
        "\n",
        "try:\n",
        "    tpu = tf.distribute.cluster_resolver.TPUClusterResolver()\n",
        "    print('Device:', tpu.master())\n",
        "    tf.config.experimental_connect_to_cluster(tpu)\n",
        "    tf.tpu.experimental.initialize_tpu_system(tpu)\n",
        "    strategy = tf.distribute.experimental.TPUStrategy(tpu)\n",
        "except:\n",
        "    strategy = tf.distribute.get_strategy()\n",
        "print('Number of replicas:', strategy.num_replicas_in_sync)\n",
        "    \n",
        "print(tf.__version__)"
      ]
    },
    {
      "cell_type": "code",
      "execution_count": null,
      "metadata": {
        "id": "R2xKgm1Ru0Wb"
      },
      "outputs": [],
      "source": [
        "# Segmentation \n",
        "def mask (image, Fcint, Fcext, cxe, cye, cxi, cyi):\n",
        "    nl= image.shape[0]\n",
        "    nc=  image.shape[1]\n",
        "    xe = np.arange(-cxe[0],nc-cxe[0],1)\n",
        "    ye = np.arange(-cye[0],nl-cye[0],1)\n",
        "    xxe, yye = np.meshgrid(xe, ye, sparse=True)\n",
        "    ze = np.sqrt(xxe*xxe + yye*yye)\n",
        "    xi = np.arange(-cxi[0],nc-cxi[0],1)\n",
        "    yi = np.arange(-cyi[0],nl-cyi[0],1)\n",
        "    xxi, yyi = np.meshgrid(xi, yi, sparse=True)\n",
        "    zi = np.sqrt(xxi*xxi + yyi*yyi)\n",
        "    \n",
        "    return (ze<Fcext)*(Fcint<zi)\n",
        "\n",
        "def seg (img) :   \n",
        "# Thresholding and edge detection\n",
        "    filterSize =(5, 5)\n",
        "    kernel = np.ones((5, 5), np.uint8)\n",
        "    image = cv2.erode(img,kernel)     # bch naho holes li capable yjo fla pupille or at least ne9sohom  (testit b image ta3 taha ta3 dataset AMF)\n",
        "\n",
        "# for inner boundary\n",
        "    ret1,th1 = cv2.threshold(image,30,255,cv2.THRESH_BINARY)\n",
        "    edgesint= canny(th1, sigma=3, low_threshold=30, high_threshold=255)\n",
        "\n",
        "# calculate hough radius\n",
        "    hough_radiii = np.arange(30, 60)\n",
        "    hough_resi = hough_circle(edgesint, hough_radiii)\n",
        "    accumsi, cxi, cyi, radiii = hough_circle_peaks(hough_resi, hough_radiii,total_num_peaks=1)\n",
        "\n",
        "\n",
        "# for outer boundary\n",
        "    hough_radiie = np.arange(70, 2000)\n",
        "    ret2,th2 = cv2.threshold(image,110,255,cv2.THRESH_BINARY)\n",
        "    edgesext= canny(th2, sigma=3, low_threshold=110, high_threshold=255)\n",
        "\n",
        "    hough_rese = hough_circle(edgesext, hough_radiie)\n",
        "    if (hough_rese.sum() != 0) :\n",
        "        accumse, cxe, cye, radiie = hough_circle_peaks(hough_rese, hough_radiie,total_num_peaks=1)\n",
        "        d= sqrt((cxe-cxi)^2 + (cye-cyi)^2)\n",
        "        if (d>10) :\n",
        "          thresholds = threshold_multiotsu(image)\n",
        "          regions = np.array(np.digitize(image, bins=thresholds), np.uint8)\n",
        "          sobelx = cv2.Sobel(src=regions,ddepth=cv2.CV_8UC1,  dx=1, dy=0, ksize=5)\n",
        "          sobely = cv2.Sobel(src=regions,ddepth=cv2.CV_8UC1, dx=0, dy=1, ksize=5) \n",
        "          sobelxy = cv2.Sobel(src=regions,ddepth=cv2.CV_8UC1, dx=1, dy=1, ksize=5)\n",
        "          edgesext = cv2.dilate(sobelxy, kernel)\n",
        "          accumse, cxe, cye, radiie = hough_circle_peaks(hough_rese, hough_radiie,total_num_peaks=1)\n",
        "\n",
        "    if ( len(cxi)!= 0 ) and (len(cxe)!= 0) and ( len(cyi)!= 0 ) and (len(cye)!= 0) and (radiii[0]!= 0) and (radiie[0]!= 0) :\n",
        "        Seg = (image) * mask (image, radiii, radiie, cxe, cye, cxi, cyi)\n",
        "        return Seg, cxi[0],cyi[0], radiii[0], radiie[0]\n",
        "    \n",
        "    else : return [], None, None,None, None"
      ]
    },
    {
      "cell_type": "code",
      "execution_count": null,
      "metadata": {
        "id": "RDwkXP-ku8rt"
      },
      "outputs": [],
      "source": [
        "# Reflections \n",
        "def reflect(gray):\n",
        "    # reflections' localizing and enhancement  \n",
        "    ret1,th1 = cv2.threshold(gray,200,255,cv2.THRESH_BINARY)\n",
        "    refpart = gray*(th1//255)\n",
        "    refpart  = refpart.astype('uint8')\n",
        "    ref_HE= cv2.equalizeHist(refpart)\n",
        "    \n",
        "    # image totally enhaced \n",
        "    img_enh_f = gray - th1 + ref_HE\n",
        "\n",
        "    for i in range(img_enh_f.shape[0]):\n",
        "      for j in range(img_enh_f.shape[1]):\n",
        "        img_enh_f[i][j]= max(0,img_enh_f[i][j])  # didnt find relu function in openCV\n",
        "\n",
        "\n",
        "    return img_enh_f "
      ]
    },
    {
      "cell_type": "code",
      "execution_count": null,
      "metadata": {
        "id": "_48On8t2vGej"
      },
      "outputs": [],
      "source": [
        "# Normalisation\n",
        "def norm (image, cxi,cyi, radiii, radiie):\n",
        "    if (cxi != None) & (cyi != None) & (radiii != None) & (radiie != None):\n",
        "      theta = np.arange(0, 360, 1) #theta\n",
        "      rad = np.arange(0, (radiie-radiii), 1) #radius\n",
        "      \n",
        "      normal = np.empty(shape = [rad.size, theta.size])\n",
        "      \n",
        "      for t in theta:\n",
        "          for r in rad:\n",
        "              polarX = int(((r+radiii) * np.cos(t*3.14/180)) + cxi)\n",
        "              polarY = int(((r+radiii) * np.sin(t*3.14/180)) + cyi)\n",
        "              if (polarX < image.shape[1]) and (polarY < image.shape[0]):\n",
        "                  normal[int(r)][int(t) - 1] = image[polarY][polarX]\n",
        "              else : \n",
        "                  normal[int(r)][int(t) - 1] = 0\n",
        "      return normal\n",
        "    else : return []"
      ]
    },
    {
      "cell_type": "code",
      "execution_count": null,
      "metadata": {
        "id": "A3sEqQSGvN_S"
      },
      "outputs": [],
      "source": [
        "# Enhacement\n",
        "def gammaCorrection(img, gamma):\n",
        "    table = np.array([((i / 255) ** (gamma)) * 255 for i in range(256)])\n",
        "    return cv2.LUT(img, table)\n",
        "\n",
        "def gamma (grayimg):     \n",
        "    hist, bins = np.histogram(grayimg , bins= np.arange(0,256)) \n",
        "    if(len(hist)!=len(bins)):\n",
        "        hist = np.append(hist, 0 )\n",
        "    index = np.where(hist == max(hist))[0][0]\n",
        "    if (index>160):\n",
        "        return 0.9\n",
        "    else :\n",
        "        if (index < 60): \n",
        "            return 1.1\n",
        "        else : return 1   \n",
        "    \n",
        "def enh(gray) :\n",
        "    # enhacement of the image\n",
        "    gray = gray.astype(np.uint8)\n",
        "    hist = cv2.equalizeHist(gray)\n",
        "    med= cv2.medianBlur(hist,3)\n",
        "    GIC = gammaCorrection(med,gamma(gray))\n",
        "    filterSize =(3, 3)\n",
        "    kernel = cv2.getStructuringElement(cv2.MORPH_RECT, filterSize)  \n",
        "    img1 = gray - cv2.morphologyEx(GIC, cv2.MORPH_BLACKHAT,kernel) - cv2.morphologyEx(GIC, cv2.MORPH_TOPHAT,kernel) \n",
        "    return img1"
      ]
    },
    {
      "cell_type": "code",
      "execution_count": null,
      "metadata": {
        "id": "4UjeOWx0veJQ"
      },
      "outputs": [],
      "source": [
        "# Preprocessing \n",
        "def prepro (image, name, L1, L2):    \n",
        "    segm,cxi,cyi, radiii, radiie = seg(image)\n",
        "    if len(segm) != 0 :\n",
        "        ref = reflect(segm)\n",
        "        normal = norm(ref,cxi,cyi, radiii, radiie)\n",
        "        if (normal.shape[0]>0):\n",
        "          enhc = enh(normal)\n",
        "          return enhc\n",
        "        else : \n",
        "          L1.append(name)\n",
        "          return []\n",
        "    else : \n",
        "        L2.append(name)\n",
        "        return []"
      ]
    },
    {
      "cell_type": "code",
      "execution_count": null,
      "metadata": {
        "id": "GwZ7QujkF71U"
      },
      "outputs": [],
      "source": [
        "# data cleaning \n",
        "def data_clean (x,y,writer,path, image, label, L):   # writer is a csv writer\n",
        "  booll= (image<10)\n",
        "  if not((booll.sum()/(image.shape[0]*image.shape[1]))>0.75):\n",
        "    writer.writerow([path, label]) \n",
        "    x.append(image)\n",
        "    y.append(label)\n",
        "  else :\n",
        "    L.append(0)"
      ]
    },
    {
      "cell_type": "code",
      "execution_count": null,
      "metadata": {
        "colab": {
          "base_uri": "https://localhost:8080/"
        },
        "id": "oaHlI69gOSaN",
        "outputId": "6d17fc00-cacb-4ae2-bc73-bba394d27daf"
      },
      "outputs": [
        {
          "output_type": "stream",
          "name": "stdout",
          "text": [
            "25\n",
            "['Iris_20220818_122627_Right.bmp', 'Iris_20220818_122420_Left.bmp', 'Iris_20220818_122627_Left.bmp', 'Iris_20220818_122630_Right.bmp', 'Iris_20220818_111219_Left.bmp', 'Iris_20220818_111226_Left.bmp', 'Iris_20220818_111226_Right.bmp', 'Iris_20220818_111212_Left.bmp', 'Iris_20220818_111210_Left.bmp', 'Iris_20220818_122656_Right.bmp', 'Iris_20220818_122702_Right.bmp', 'Iris_20220818_122702_Left.bmp', 'Iris_20220818_122700_Right.bmp', 'Iris_20220818_122700_Left.bmp', 'Iris_20220818_122630_Left.bmp', 'Iris_20220818_122656_Left.bmp', 'Iris_20220818_111216_Left.bmp', 'Iris_20220818_111212_Right.bmp', 'Iris_20220818_111210_Right.bmp', 'Iris_20220818_111216_Right.bmp', 'Iris_20220818_111219_Right.bmp', 'Iris_20220818_122413_Left.bmp', 'Iris_20220818_122413_Right.bmp', 'Iris_20220818_122405_Right.bmp', 'Iris_20220818_122420_Right.bmp']\n"
          ]
        }
      ],
      "source": [
        "fait=[]\n",
        "for root, dir, images in os.walk('/content/drive/MyDrive/PFE/AMFseg'):\n",
        "  for image in images :\n",
        "    if image.startswith('zak') :\n",
        "      fait.append(image[10:])\n",
        "    else : \n",
        "      if image.startswith('wis') or image.startswith('zaf') :\n",
        "        fait.append(image[8:])\n",
        "print(len(fait))\n",
        "print(fait)"
      ]
    },
    {
      "cell_type": "code",
      "execution_count": null,
      "metadata": {
        "colab": {
          "base_uri": "https://localhost:8080/",
          "height": 381
        },
        "id": "22f2rqAdv-6i",
        "outputId": "9aa4b359-02c7-4294-e4c5-19e2f18b72a3"
      },
      "outputs": [
        {
          "output_type": "error",
          "ename": "ValueError",
          "evalue": "ignored",
          "traceback": [
            "\u001b[0;31m---------------------------------------------------------------------------\u001b[0m",
            "\u001b[0;31mValueError\u001b[0m                                Traceback (most recent call last)",
            "\u001b[0;32m<ipython-input-17-9c51d08e68f8>\u001b[0m in \u001b[0;36m<cell line: 14>\u001b[0;34m()\u001b[0m\n\u001b[1;32m     25\u001b[0m \u001b[0;34m\u001b[0m\u001b[0m\n\u001b[1;32m     26\u001b[0m                 \u001b[0mimag\u001b[0m \u001b[0;34m=\u001b[0m \u001b[0mcv2\u001b[0m\u001b[0;34m.\u001b[0m\u001b[0mimread\u001b[0m\u001b[0;34m(\u001b[0m\u001b[0mpath\u001b[0m\u001b[0;34m,\u001b[0m \u001b[0mcv2\u001b[0m\u001b[0;34m.\u001b[0m\u001b[0mIMREAD_GRAYSCALE\u001b[0m\u001b[0;34m)\u001b[0m\u001b[0;34m\u001b[0m\u001b[0;34m\u001b[0m\u001b[0m\n\u001b[0;32m---> 27\u001b[0;31m                 \u001b[0mimag\u001b[0m \u001b[0;34m=\u001b[0m \u001b[0mprepro\u001b[0m\u001b[0;34m(\u001b[0m\u001b[0mimag\u001b[0m\u001b[0;34m,\u001b[0m \u001b[0mimg\u001b[0m\u001b[0;34m,\u001b[0m \u001b[0mnormprob\u001b[0m\u001b[0;34m,\u001b[0m \u001b[0msegprob\u001b[0m\u001b[0;34m)\u001b[0m\u001b[0;34m\u001b[0m\u001b[0;34m\u001b[0m\u001b[0m\n\u001b[0m\u001b[1;32m     28\u001b[0m \u001b[0;34m\u001b[0m\u001b[0m\n\u001b[1;32m     29\u001b[0m                 \u001b[0;32mif\u001b[0m \u001b[0mlen\u001b[0m\u001b[0;34m(\u001b[0m\u001b[0mimag\u001b[0m\u001b[0;34m)\u001b[0m \u001b[0;34m!=\u001b[0m \u001b[0;36m0\u001b[0m \u001b[0;34m:\u001b[0m\u001b[0;34m\u001b[0m\u001b[0;34m\u001b[0m\u001b[0m\n",
            "\u001b[0;32m<ipython-input-8-127256df2212>\u001b[0m in \u001b[0;36mprepro\u001b[0;34m(image, name, L1, L2)\u001b[0m\n\u001b[1;32m      1\u001b[0m \u001b[0;31m# Preprocessing\u001b[0m\u001b[0;34m\u001b[0m\u001b[0;34m\u001b[0m\u001b[0m\n\u001b[1;32m      2\u001b[0m \u001b[0;32mdef\u001b[0m \u001b[0mprepro\u001b[0m \u001b[0;34m(\u001b[0m\u001b[0mimage\u001b[0m\u001b[0;34m,\u001b[0m \u001b[0mname\u001b[0m\u001b[0;34m,\u001b[0m \u001b[0mL1\u001b[0m\u001b[0;34m,\u001b[0m \u001b[0mL2\u001b[0m\u001b[0;34m)\u001b[0m\u001b[0;34m:\u001b[0m\u001b[0;34m\u001b[0m\u001b[0;34m\u001b[0m\u001b[0m\n\u001b[0;32m----> 3\u001b[0;31m     \u001b[0msegm\u001b[0m\u001b[0;34m,\u001b[0m\u001b[0mcxi\u001b[0m\u001b[0;34m,\u001b[0m\u001b[0mcyi\u001b[0m\u001b[0;34m,\u001b[0m \u001b[0mradiii\u001b[0m\u001b[0;34m,\u001b[0m \u001b[0mradiie\u001b[0m \u001b[0;34m=\u001b[0m \u001b[0mseg\u001b[0m\u001b[0;34m(\u001b[0m\u001b[0mimage\u001b[0m\u001b[0;34m)\u001b[0m\u001b[0;34m\u001b[0m\u001b[0;34m\u001b[0m\u001b[0m\n\u001b[0m\u001b[1;32m      4\u001b[0m     \u001b[0;32mif\u001b[0m \u001b[0mlen\u001b[0m\u001b[0;34m(\u001b[0m\u001b[0msegm\u001b[0m\u001b[0;34m)\u001b[0m \u001b[0;34m!=\u001b[0m \u001b[0;36m0\u001b[0m \u001b[0;34m:\u001b[0m\u001b[0;34m\u001b[0m\u001b[0;34m\u001b[0m\u001b[0m\n\u001b[1;32m      5\u001b[0m         \u001b[0mref\u001b[0m \u001b[0;34m=\u001b[0m \u001b[0mreflect\u001b[0m\u001b[0;34m(\u001b[0m\u001b[0msegm\u001b[0m\u001b[0;34m)\u001b[0m\u001b[0;34m\u001b[0m\u001b[0;34m\u001b[0m\u001b[0m\n",
            "\u001b[0;32m<ipython-input-5-d6c5537f8df6>\u001b[0m in \u001b[0;36mseg\u001b[0;34m(img)\u001b[0m\n\u001b[1;32m     38\u001b[0m     \u001b[0;32mif\u001b[0m \u001b[0;34m(\u001b[0m\u001b[0mhough_rese\u001b[0m\u001b[0;34m.\u001b[0m\u001b[0msum\u001b[0m\u001b[0;34m(\u001b[0m\u001b[0;34m)\u001b[0m \u001b[0;34m!=\u001b[0m \u001b[0;36m0\u001b[0m\u001b[0;34m)\u001b[0m \u001b[0;34m:\u001b[0m\u001b[0;34m\u001b[0m\u001b[0;34m\u001b[0m\u001b[0m\n\u001b[1;32m     39\u001b[0m         \u001b[0maccumse\u001b[0m\u001b[0;34m,\u001b[0m \u001b[0mcxe\u001b[0m\u001b[0;34m,\u001b[0m \u001b[0mcye\u001b[0m\u001b[0;34m,\u001b[0m \u001b[0mradiie\u001b[0m \u001b[0;34m=\u001b[0m \u001b[0mhough_circle_peaks\u001b[0m\u001b[0;34m(\u001b[0m\u001b[0mhough_rese\u001b[0m\u001b[0;34m,\u001b[0m \u001b[0mhough_radiie\u001b[0m\u001b[0;34m,\u001b[0m\u001b[0mtotal_num_peaks\u001b[0m\u001b[0;34m=\u001b[0m\u001b[0;36m1\u001b[0m\u001b[0;34m)\u001b[0m\u001b[0;34m\u001b[0m\u001b[0;34m\u001b[0m\u001b[0m\n\u001b[0;32m---> 40\u001b[0;31m         \u001b[0md\u001b[0m\u001b[0;34m=\u001b[0m \u001b[0msqrt\u001b[0m\u001b[0;34m(\u001b[0m\u001b[0;34m(\u001b[0m\u001b[0mcxe\u001b[0m\u001b[0;34m-\u001b[0m\u001b[0mcxi\u001b[0m\u001b[0;34m)\u001b[0m\u001b[0;34m^\u001b[0m\u001b[0;36m2\u001b[0m \u001b[0;34m+\u001b[0m \u001b[0;34m(\u001b[0m\u001b[0mcye\u001b[0m\u001b[0;34m-\u001b[0m\u001b[0mcyi\u001b[0m\u001b[0;34m)\u001b[0m\u001b[0;34m^\u001b[0m\u001b[0;36m2\u001b[0m\u001b[0;34m)\u001b[0m\u001b[0;34m\u001b[0m\u001b[0;34m\u001b[0m\u001b[0m\n\u001b[0m\u001b[1;32m     41\u001b[0m         \u001b[0;32mif\u001b[0m \u001b[0;34m(\u001b[0m\u001b[0md\u001b[0m\u001b[0;34m>\u001b[0m\u001b[0;36m10\u001b[0m\u001b[0;34m)\u001b[0m \u001b[0;34m:\u001b[0m\u001b[0;34m\u001b[0m\u001b[0;34m\u001b[0m\u001b[0m\n\u001b[1;32m     42\u001b[0m           \u001b[0mthresholds\u001b[0m \u001b[0;34m=\u001b[0m \u001b[0mthreshold_multiotsu\u001b[0m\u001b[0;34m(\u001b[0m\u001b[0mimage\u001b[0m\u001b[0;34m)\u001b[0m\u001b[0;34m\u001b[0m\u001b[0;34m\u001b[0m\u001b[0m\n",
            "\u001b[0;31mValueError\u001b[0m: math domain error"
          ]
        }
      ],
      "source": [
        "# creating dataset\n",
        "labels=[]\n",
        "label_id={}\n",
        "\n",
        "x=[]\n",
        "y=[]\n",
        "\n",
        "normprob = []\n",
        "segprob = []\n",
        "datacleaned = []\n",
        "\n",
        "\n",
        "newpath = '/content/drive/MyDrive/PFE/AMFseg'\n",
        "with open('/content/drive/MyDrive/PFE/AMFseg.csv', 'w', newline='') as file:\n",
        "    writer = csv.writer(file)\n",
        "    for root, dir, images in os.walk('/content/drive/MyDrive/PFE/AMF'):\n",
        "        for img in images:\n",
        "            if (img.endswith('jpg')) or (img.endswith('bmp')) and (not(img in fait)) :       \n",
        "                path= os.path.join(root, img)\n",
        "                label = os.path.basename(os.path.dirname(path))\n",
        "                    \n",
        "                if not (label in labels) :\n",
        "                    labels.append(label)\n",
        "                    label_id [label] = len(labels)-1\n",
        "\n",
        "                imag = cv2.imread(path, cv2.IMREAD_GRAYSCALE)\n",
        "                imag = prepro(imag, img, normprob, segprob)\n",
        "\n",
        "                if len(imag) != 0 :\n",
        "                  cv2.imwrite(f'{newpath}/{label}___{img}', imag)\n",
        "                  # LL  = pywt.dwt2(img, 'bior2.2' )\n",
        "                  imag= cv2.resize(imag, (360,100) , interpolation = cv2.INTER_AREA)\n",
        "                  data_clean(x,y,writer,path, imag , label_id[label], datacleaned)\n",
        "                  print(f'image {img} is done')\n",
        "                  fait.append(im)\n",
        "x= np.array(x)\n",
        "y= np.array(y)"
      ]
    },
    {
      "cell_type": "code",
      "execution_count": null,
      "metadata": {
        "colab": {
          "base_uri": "https://localhost:8080/"
        },
        "id": "yEzTivbd_KsB",
        "outputId": "4203747a-90df-4ea2-d656-9b723637b9a0"
      },
      "outputs": [
        {
          "name": "stdout",
          "output_type": "stream",
          "text": [
            "(435,)\n",
            "(128, 128)\n"
          ]
        }
      ],
      "source": [
        "print(y.shape)  # means 19 images t7acho ca va\n",
        "print(x[0].shape)"
      ]
    },
    {
      "cell_type": "code",
      "execution_count": null,
      "metadata": {
        "colab": {
          "base_uri": "https://localhost:8080/",
          "height": 447
        },
        "id": "Qe5lVOHSP20Q",
        "outputId": "06d4d7fd-fe1e-454e-f545-ac772a3900c1"
      },
      "outputs": [
        {
          "data": {
            "text/plain": [
              "[<matplotlib.lines.Line2D at 0x7fab103d4250>]"
            ]
          },
          "execution_count": 80,
          "metadata": {},
          "output_type": "execute_result"
        },
        {
          "data": {
            "image/png": "[encoded data removed]",
            "text/plain": [
              "<Figure size 640x480 with 1 Axes>"
            ]
          },
          "metadata": {},
          "output_type": "display_data"
        }
      ],
      "source": [
        "from skimage import exposure\n",
        "import matplotlib.pyplot as plt\n",
        "\n",
        "hist = exposure.histogram(y)    # pour voir wila balanced dataset wla lala\n",
        "plt.plot(hist[0])"
      ]
    },
    {
      "cell_type": "code",
      "execution_count": null,
      "metadata": {
        "id": "emHW_-AbUqb2"
      },
      "outputs": [],
      "source": [
        "# Dividing the data set into train and test and training the model\n",
        "xtr, xts, ytr, yts = train_test_split(x,y, test_size=0.2)\n",
        "\n",
        "# divide train into train w validation mzl madertha ..."
      ]
    },
    {
      "cell_type": "code",
      "execution_count": null,
      "metadata": {
        "id": "LMeeDLWPLAlO"
      },
      "outputs": [],
      "source": [
        "METRICS = [tf.keras.metrics.CategoricalAccuracy(name='acc'),\n",
        "           tf.keras.metrics.AUC(name='auc'),   \n",
        "           tfa.metrics.F1Score(num_classes=52)]     # 52 ta3 AMF\n",
        "EPOCHS = 10"
      ]
    },
    {
      "cell_type": "code",
      "execution_count": null,
      "metadata": {
        "id": "y4m5FSmiPOg2"
      },
      "outputs": [],
      "source": [
        "# dynamic learning rate\n",
        "def exponential_decay(lr0, s):     # i need to search what is s and wch kayen type of learning rate schedulers.\n",
        "    def exponential_decay_fn(epoch):\n",
        "        return lr0 * 0.1 **(epoch / s)\n",
        "    return exponential_decay_fn\n",
        "\n",
        "exponential_decay_fn = exponential_decay(0.01, 20)\n",
        "\n",
        "lr_scheduler = tf.keras.callbacks.LearningRateScheduler(exponential_decay_fn)\n",
        "\n",
        "class MyCallback(tf.keras.callbacks.Callback):\n",
        "    def on_epoch_end(self, epoch, logs={}):\n",
        "        if logs.get('val_acc') > 0.99:\n",
        "            print(\"\\nReached accuracy threshold! Terminating training.\")\n",
        "            self.model.stop_training = True\n",
        "            \n",
        "my_callback = MyCallback()\n",
        "\n",
        "#EarlyStopping callback to make sure model is always learning\n",
        "early_stopping = tf.keras.callbacks.EarlyStopping(monitor='val_loss', patience=40)"
      ]
    },
    {
      "cell_type": "code",
      "execution_count": null,
      "metadata": {
        "colab": {
          "base_uri": "https://localhost:8080/"
        },
        "id": "lYhmppc9TuBy",
        "outputId": "4a93d766-234e-4f10-aacc-477ba4d10515"
      },
      "outputs": [
        {
          "name": "stdout",
          "output_type": "stream",
          "text": [
            "Model: \"sequential_12\"\n",
            "_________________________________________________________________\n",
            " Layer (type)                Output Shape              Param #   \n",
            "=================================================================\n",
            " conv2d_36 (Conv2D)          (None, 30, 30, 96)        11712     \n",
            "                                                                 \n",
            " max_pooling2d_36 (MaxPoolin  (None, 15, 15, 96)       0         \n",
            " g2D)                                                            \n",
            "                                                                 \n",
            " zero_padding2d_24 (ZeroPadd  (None, 19, 19, 96)       0         \n",
            " ing2D)                                                          \n",
            "                                                                 \n",
            " conv2d_37 (Conv2D)          (None, 17, 17, 16)        13840     \n",
            "                                                                 \n",
            " max_pooling2d_37 (MaxPoolin  (None, 8, 8, 16)         0         \n",
            " g2D)                                                            \n",
            "                                                                 \n",
            " zero_padding2d_25 (ZeroPadd  (None, 10, 10, 16)       0         \n",
            " ing2D)                                                          \n",
            "                                                                 \n",
            " conv2d_38 (Conv2D)          (None, 6, 6, 8)           3208      \n",
            "                                                                 \n",
            " max_pooling2d_38 (MaxPoolin  (None, 3, 3, 8)          0         \n",
            " g2D)                                                            \n",
            "                                                                 \n",
            " flatten_12 (Flatten)        (None, 72)                0         \n",
            "                                                                 \n",
            " dense_36 (Dense)            (None, 4096)              299008    \n",
            "                                                                 \n",
            " dropout_24 (Dropout)        (None, 4096)              0         \n",
            "                                                                 \n",
            " dense_37 (Dense)            (None, 2048)              8390656   \n",
            "                                                                 \n",
            " dropout_25 (Dropout)        (None, 2048)              0         \n",
            "                                                                 \n",
            " dense_38 (Dense)            (None, 52)                106548    \n",
            "                                                                 \n",
            "=================================================================\n",
            "Total params: 8,824,972\n",
            "Trainable params: 8,824,972\n",
            "Non-trainable params: 0\n",
            "_________________________________________________________________\n"
          ]
        }
      ],
      "source": [
        "CNN = tf.keras.models.Sequential([\n",
        "    tf.keras.layers.Input(shape=(128,128,1)),\n",
        "    tf.keras.layers.Conv2D(96, (11,11), strides = (4,4), activation='relu'),\n",
        "    tf.keras.layers.MaxPool2D(),\n",
        "    tf.keras.layers.ZeroPadding2D(padding= (2,2)),\n",
        "    tf.keras.layers.Conv2D(16, (3, 3), activation='relu'),\n",
        "    tf.keras.layers.MaxPool2D(),\n",
        "    tf.keras.layers.ZeroPadding2D(padding= (1,1)),\n",
        "    tf.keras.layers.Conv2D(8, (5, 5), activation='relu'),\n",
        "    tf.keras.layers.MaxPool2D(),\n",
        "    tf.keras.layers.Flatten(),\n",
        "    tf.keras.layers.Dense(4096, activation='relu'),\n",
        "    tf.keras.layers.Dropout(0.2),\n",
        "    tf.keras.layers.Dense(2048, activation='relu'),\n",
        "    tf.keras.layers.Dropout(0.2),\n",
        "    tf.keras.layers.Dense(52, activation='softmax')\n",
        "                             ])\n",
        "with strategy.scope():   # 3la l tpu in case kayen\n",
        "  CNN.compile(\n",
        "      optimizer='adam',\n",
        "      loss='categorical_crossentropy',\n",
        "      metrics=METRICS\n",
        "      )\n",
        "\n",
        "CNN.summary()\n",
        "    \n",
        "# networkX python library for graphs theory "
      ]
    },
    {
      "cell_type": "code",
      "execution_count": null,
      "metadata": {
        "colab": {
          "base_uri": "https://localhost:8080/"
        },
        "id": "W8EMil7XT469",
        "outputId": "cbd62301-72c1-49e5-b3ea-577eaf7027f4"
      },
      "outputs": [
        {
          "name": "stdout",
          "output_type": "stream",
          "text": [
            "Epoch 1/20\n",
            "11/11 [==============================] - 7s 456ms/step - loss: 4.7554 - accuracy: 0.0259\n",
            "Epoch 2/20\n",
            "11/11 [==============================] - 3s 294ms/step - loss: 3.8432 - accuracy: 0.0632\n",
            "Epoch 3/20\n",
            "11/11 [==============================] - 3s 287ms/step - loss: 3.6415 - accuracy: 0.0977\n",
            "Epoch 4/20\n",
            "11/11 [==============================] - 3s 312ms/step - loss: 3.2159 - accuracy: 0.1810\n",
            "Epoch 5/20\n",
            "11/11 [==============================] - 5s 449ms/step - loss: 2.7488 - accuracy: 0.2529\n",
            "Epoch 6/20\n",
            "11/11 [==============================] - 3s 292ms/step - loss: 2.4078 - accuracy: 0.3247\n",
            "Epoch 7/20\n",
            "11/11 [==============================] - 3s 280ms/step - loss: 1.9310 - accuracy: 0.4023\n",
            "Epoch 8/20\n",
            "11/11 [==============================] - 3s 309ms/step - loss: 1.6202 - accuracy: 0.5172\n",
            "Epoch 9/20\n",
            "11/11 [==============================] - 5s 442ms/step - loss: 1.3365 - accuracy: 0.6006\n",
            "Epoch 10/20\n",
            "11/11 [==============================] - 3s 274ms/step - loss: 1.0561 - accuracy: 0.6954\n",
            "Epoch 11/20\n",
            "11/11 [==============================] - 3s 287ms/step - loss: 0.8962 - accuracy: 0.7213\n",
            "Epoch 12/20\n",
            "11/11 [==============================] - 3s 285ms/step - loss: 0.6115 - accuracy: 0.8132\n",
            "Epoch 13/20\n",
            "11/11 [==============================] - 5s 469ms/step - loss: 0.4409 - accuracy: 0.8649\n",
            "Epoch 14/20\n",
            "11/11 [==============================] - 3s 270ms/step - loss: 0.3077 - accuracy: 0.9080\n",
            "Epoch 15/20\n",
            "11/11 [==============================] - 3s 287ms/step - loss: 0.2910 - accuracy: 0.9080\n",
            "Epoch 16/20\n",
            "11/11 [==============================] - 3s 286ms/step - loss: 0.1761 - accuracy: 0.9626\n",
            "Epoch 17/20\n",
            "11/11 [==============================] - 5s 498ms/step - loss: 0.2168 - accuracy: 0.9397\n",
            "Epoch 18/20\n",
            "11/11 [==============================] - 3s 283ms/step - loss: 0.2940 - accuracy: 0.9138\n",
            "Epoch 19/20\n",
            "11/11 [==============================] - 3s 292ms/step - loss: 0.3102 - accuracy: 0.9224\n",
            "Epoch 20/20\n",
            "11/11 [==============================] - 3s 284ms/step - loss: 0.1714 - accuracy: 0.9540\n"
          ]
        },
        {
          "data": {
            "text/plain": [
              "<keras.callbacks.History at 0x7fab117f5670>"
            ]
          },
          "execution_count": 100,
          "metadata": {},
          "output_type": "execute_result"
        }
      ],
      "source": [
        "# CNN training\n",
        "history = CNN.fit(\n",
        "    xtr,ytr,\n",
        "    # validation_data=xval,    xval necreyiha apres\n",
        "    callbacks=[lr_scheduler, my_callback],\n",
        "    epochs=EPOCHS\n",
        ")\n"
      ]
    },
    {
      "cell_type": "code",
      "execution_count": null,
      "metadata": {
        "colab": {
          "base_uri": "https://localhost:8080/"
        },
        "id": "McN2xWbuT8hb",
        "outputId": "90451d52-4536-4e67-e4f4-2421c2e946ea"
      },
      "outputs": [
        {
          "name": "stdout",
          "output_type": "stream",
          "text": [
            "3/3 [==============================] - 0s 46ms/step - loss: 3.5785 - accuracy: 0.4483\n"
          ]
        }
      ],
      "source": [
        "loss, acc = CNN.evaluate(xts,yts)"
      ]
    }
  ],
  "metadata": {
    "colab": {
      "provenance": []
    },
    "kernelspec": {
      "display_name": "Python 3",
      "name": "python3"
    },
    "language_info": {
      "name": "python"
    }
  },
  "nbformat": 4,
  "nbformat_minor": 0
}