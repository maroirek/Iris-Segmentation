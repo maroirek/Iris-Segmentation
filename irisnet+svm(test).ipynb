{
  "cells": [
    {
      "cell_type": "code",
      "execution_count": null,
      "metadata": {
        "colab": {
          "base_uri": "https://localhost:8080/"
        },
        "id": "xOqpb2uUojcw",
        "outputId": "33495995-f4b7-4fd7-f4ca-756d374097f0"
      },
      "outputs": [
        {
          "output_type": "stream",
          "name": "stdout",
          "text": [
            "Looking in indexes: https://pypi.org/simple, https://us-python.pkg.dev/colab-wheels/public/simple/\n",
            "Requirement already satisfied: tensorflow_addons in /usr/local/lib/python3.9/dist-packages (0.20.0)\n",
            "Requirement already satisfied: typeguard<3.0.0,>=2.7 in /usr/local/lib/python3.9/dist-packages (from tensorflow_addons) (2.13.3)\n",
            "Requirement already satisfied: packaging in /usr/local/lib/python3.9/dist-packages (from tensorflow_addons) (23.0)\n"
          ]
        }
      ],
      "source": [
        "!pip install tensorflow_addons"
      ]
    },
    {
      "cell_type": "code",
      "execution_count": null,
      "metadata": {
        "colab": {
          "base_uri": "https://localhost:8080/"
        },
        "id": "77T27Z1CoXed",
        "outputId": "0596c350-217f-4d3e-d991-9f241af0bc94"
      },
      "outputs": [
        {
          "output_type": "stream",
          "name": "stdout",
          "text": [
            "Drive already mounted at /content/drive; to attempt to forcibly remount, call drive.mount(\"/content/drive\", force_remount=True).\n",
            "Number of replicas: 1\n",
            "2.12.0\n"
          ]
        }
      ],
      "source": [
        "import cv2 \n",
        "import matplotlib.pyplot as plt\n",
        "import numpy as np\n",
        "from sklearn.model_selection import train_test_split\n",
        "import pandas as pd\n",
        "from sklearn.svm import SVC\n",
        "import pywt\n",
        "\n",
        "\n",
        "import tensorflow as tf\n",
        "import tensorflow_addons as tfa\n",
        "\n",
        "import os\n",
        "from google.colab import drive\n",
        "drive.mount('/content/drive')\n",
        "\n",
        "try:\n",
        "    tpu = tf.distribute.cluster_resolver.TPUClusterResolver()\n",
        "    print('Device:', tpu.master())\n",
        "    tf.config.experimental_connect_to_cluster(tpu)\n",
        "    tf.tpu.experimental.initialize_tpu_system(tpu)\n",
        "    strategy = tf.distribute.experimental.TPUStrategy(tpu)\n",
        "except:\n",
        "    strategy = tf.distribute.get_strategy()\n",
        "print('Number of replicas:', strategy.num_replicas_in_sync)\n",
        "    \n",
        "print(tf.__version__)"
      ]
    },
    {
      "cell_type": "code",
      "execution_count": null,
      "metadata": {
        "id": "HDwio2rxrc4N"
      },
      "outputs": [],
      "source": [
        "def data_clean (image,x,y, h, label, L, newpath, img):\n",
        "  hist = cv2.calcHist([image], [0], None, [256], [0, 256])\n",
        "  if (np.where(hist == max(hist))[0][0] != 0) :\n",
        "    h.append([image,label])    # in case n9lboha data frame (kayen 3efsa whdokhra l images mais jsp maa)\n",
        "    x.append(image)\n",
        "    y.append(label)\n",
        "    # cv2.imwrite(f'{newpath}/{label}_____{img}', image)\n",
        "  else :\n",
        "    if(max(hist)/(image.shape[0]*image.shape[1])<0.7):\n",
        "      h.append([image,label])\n",
        "      x.append(image)\n",
        "      y.append(label)\n",
        "      # cv2.imwrite(f'{newpath}/{label}_____{img}', image)\n",
        "    else:\n",
        "      L.append(label)"
      ]
    },
    {
      "cell_type": "code",
      "execution_count": null,
      "metadata": {
        "colab": {
          "base_uri": "https://localhost:8080/"
        },
        "id": "22f2rqAdv-6i",
        "outputId": "7b538117-a99d-4683-ad18-48b48d6eee83"
      },
      "outputs": [
        {
          "output_type": "stream",
          "name": "stdout",
          "text": [
            "939\n",
            "423\n"
          ]
        },
        {
          "output_type": "stream",
          "name": "stderr",
          "text": [
            "<ipython-input-21-7a60f63582f3>:49: VisibleDeprecationWarning: Creating an ndarray from ragged nested sequences (which is a list-or-tuple of lists-or-tuples-or ndarrays with different lengths or shapes) is deprecated. If you meant to do this, you must specify 'dtype=object' when creating the ndarray.\n",
            "  h=np.array(h)\n"
          ]
        }
      ],
      "source": [
        "# creating dataset\n",
        "\n",
        "datacleaned = []\n",
        "h=[]\n",
        "x=[]\n",
        "y=[]\n",
        "\n",
        "newpath = '/content/drive/MyDrive/PFE/MMU+casiacleaned'\n",
        "for root, dir, images in os.walk('/content/drive/MyDrive/PFE/casiaaa'):\n",
        "    for img in images:\n",
        "        if ((img.endswith('jpg')) or (img.endswith('bmp'))) and (not((img.endswith(').jpg')) or (img.endswith(').bmp')))) :       \n",
        "            path= os.path.join(root, img)\n",
        "            label = img[:5]\n",
        "\n",
        "            imag = cv2.imread(path, cv2.IMREAD_GRAYSCALE)\n",
        "\n",
        "            if len(imag) != 0 :\n",
        "              # LL  = pywt.dwt2(img, 'bior2.2' )\n",
        "              imag= cv2.resize(imag, (128,128) , interpolation = cv2.INTER_AREA)\n",
        "              data_clean(imag,x,y,h, label , datacleaned, newpath, img)\n",
        "\n",
        "\n",
        "for root, dir, images in os.walk('/content/drive/MyDrive/PFE/MMUseg'):\n",
        "    for img in images:\n",
        "         if ((img.endswith('jpg')) or (img.endswith('bmp'))) and (not((img.endswith(').jpg')) or (img.endswith(').bmp')))) :     \n",
        "            path= os.path.join(root, img)\n",
        "            label = img[:3]\n",
        "\n",
        "            imag = cv2.imread(path, cv2.IMREAD_GRAYSCALE)\n",
        "\n",
        "            if len(imag) != 0 :\n",
        "              imag= cv2.resize(imag, (128,128) , interpolation = cv2.INTER_AREA)\n",
        "              data_clean(imag,x,y,h, label , datacleaned, newpath, img)\n",
        "\n",
        "\n",
        "\n",
        "print(len(x))\n",
        "print(len(datacleaned))\n",
        "\n",
        "\n",
        "from sklearn import preprocessing\n",
        "le = preprocessing.LabelEncoder()\n",
        "y= le.fit_transform(y)\n",
        "\n",
        "# y = tf.keras.utils.to_categorical(y, 108)    # one hot encoding  roh takhraaa\n",
        "\n",
        "x=np.array(x)\n",
        "y=np.array(y)\n",
        "h=np.array(h)"
      ]
    },
    {
      "cell_type": "code",
      "source": [
        "import os\n",
        "ts =[]\n",
        "for root, dir, images in os.walk('/content/drive/MyDrive/PFE/MMU+casiacleaned'):\n",
        "    for img in images:\n",
        "      ts.append(img)\n",
        "len(ts)"
      ],
      "metadata": {
        "colab": {
          "base_uri": "https://localhost:8080/"
        },
        "id": "1BsqpW86cnP1",
        "outputId": "137de585-9f0f-4cb9-a026-d8df74d44a6c"
      },
      "execution_count": null,
      "outputs": [
        {
          "output_type": "execute_result",
          "data": {
            "text/plain": [
              "0"
            ]
          },
          "metadata": {},
          "execution_count": 23
        }
      ]
    },
    {
      "cell_type": "code",
      "execution_count": null,
      "metadata": {
        "colab": {
          "base_uri": "https://localhost:8080/"
        },
        "id": "jgMWOFj1ZB7I",
        "outputId": "5221927d-73d3-43af-99f2-d7e178545624"
      },
      "outputs": [
        {
          "output_type": "execute_result",
          "data": {
            "text/plain": [
              "(array(['S3011', 'S3012', 'S3161', 'S3162', 'S3272', 'S3511', 'S3512',\n",
              "        'S3691', 'S3692', 'S3751', 'S3752', 'S3781', 'S3782', 'S3791',\n",
              "        'S3792', 'S3801', 'S3802', 'S3811', 'S3812', 'S3821', 'S3822',\n",
              "        'S3831', 'S3832', 'S3841', 'S3842', 'S3851', 'S3852', 'S3861',\n",
              "        'S3862', 'S3871', 'S3872', 'S3881', 'S3882', 'S3891', 'S3892',\n",
              "        'S3901', 'S3902', 'S6873', 'S6879', 'S6881', 'S6883', 'S6885',\n",
              "        'S6886', 'S6887', 'S6888', 'S6889', 'S6890', 'S6897', 'S6898',\n",
              "        'S6899', 'S6904', 'S6905', 'S6907', 'S6908', 'lec', 'lok', 'mar',\n",
              "        'phi', 'sal', 'vim'], dtype='<U5'),\n",
              " array([ 5,  9, 10,  7,  1, 10,  6, 10,  1, 16, 16, 13, 20, 16, 13,  8,  5,\n",
              "        11,  7,  7,  2,  1,  3,  4,  9,  4,  4, 12, 17,  9,  8, 18,  7, 15,\n",
              "         8,  8,  5,  2,  3,  7,  3,  3,  4,  3,  7,  8,  2,  8,  7,  3,  5,\n",
              "         4,  6,  4,  4,  1,  4,  2,  6,  2]))"
            ]
          },
          "metadata": {},
          "execution_count": 7
        }
      ],
      "source": [
        "np.unique(datacleaned, return_counts=True)"
      ]
    },
    {
      "cell_type": "code",
      "execution_count": null,
      "metadata": {
        "colab": {
          "base_uri": "https://localhost:8080/"
        },
        "id": "iJxZ5KdMWEdS",
        "outputId": "d185a793-7f44-44a9-bea2-8f624fd9ceed"
      },
      "outputs": [
        {
          "output_type": "execute_result",
          "data": {
            "text/plain": [
              "(108,)"
            ]
          },
          "metadata": {},
          "execution_count": 8
        }
      ],
      "source": [
        "f,n = np.unique(y, return_counts=True)   # nbr de classes  108   bin casiaaa w mmu\n",
        "# plt.scatter(f,n)\n",
        "f.shape   "
      ]
    },
    {
      "cell_type": "code",
      "execution_count": null,
      "metadata": {
        "colab": {
          "base_uri": "https://localhost:8080/"
        },
        "id": "MGSflzsn21Oz",
        "outputId": "44b589c0-e302-417c-cdfc-aedd28b2af01"
      },
      "outputs": [
        {
          "output_type": "stream",
          "name": "stdout",
          "text": [
            "423\n"
          ]
        },
        {
          "output_type": "execute_result",
          "data": {
            "text/plain": [
              "(939,)"
            ]
          },
          "metadata": {},
          "execution_count": 9
        }
      ],
      "source": [
        "print(len(datacleaned))  # mmu et casia 9a3do 1000 men 1500 apres datacleaning\n",
        "y.shape"
      ]
    },
    {
      "cell_type": "code",
      "execution_count": null,
      "metadata": {
        "id": "VB0hEWu7wNq1"
      },
      "outputs": [],
      "source": [
        "# data = pd.DataFrame(h, columns =['Images','Label'])     just in case we need dataframe\n",
        "# data.tail()"
      ]
    },
    {
      "cell_type": "code",
      "execution_count": null,
      "metadata": {
        "id": "5Za1Zwsw-00z"
      },
      "outputs": [],
      "source": [
        "xtr, xts, ytr, yts = train_test_split(x,y, test_size=0.2)"
      ]
    },
    {
      "cell_type": "code",
      "execution_count": null,
      "metadata": {
        "id": "CgU-BrqpDEpj"
      },
      "outputs": [],
      "source": [
        "METRICS = [tf.keras.metrics.SparseCategoricalAccuracy(name='sparse_categorical_accuracy'),      # hadi haka ay tsra fiha problem idk why\n",
        "           tf.keras.metrics.AUC(name='auc'),   \n",
        "           tfa.metrics.F1Score(num_classes=108)]     # 52 ta3 AMF lba9i casia\n",
        "EPOCHS = 10"
      ]
    },
    {
      "cell_type": "code",
      "execution_count": null,
      "metadata": {
        "id": "b7fMJUo3DI4S"
      },
      "outputs": [],
      "source": [
        "# dynamic learning rate\n",
        "def exponential_decay(lr0, s):     # i need to search what is s and wch kayen type of learning rate schedulers mais mzl i didnt use it yet hada but fhamt wch aw sari.\n",
        "    def exponential_decay_fn(epoch):       # this is an inner function, 3ndhom many uses hado such as : encapsulation and preserve the inner function from ga3 wch ysra bara l outter function\n",
        "        return lr0 * 0.1 **(epoch / s)\n",
        "    return exponential_decay_fn\n",
        "\n",
        "exponential_decay_fn = exponential_decay(0.01, 20)\n",
        "\n",
        "lr_scheduler = tf.keras.callbacks.LearningRateScheduler(exponential_decay_fn)   # callbacks : fct li they take as argument other functions\n",
        "\n",
        "class MyCallback(tf.keras.callbacks.Callback):\n",
        "    def on_epoch_end(self, epoch, logs={}):\n",
        "        if logs.get('val_acc') > 0.99:\n",
        "            print(\"\\nReached accuracy threshold! Terminating training.\")\n",
        "            self.model.stop_training = True\n",
        "            \n",
        "my_callback = MyCallback()\n",
        "\n",
        "#EarlyStopping callback to make sure model is always learning\n",
        "early_stopping = tf.keras.callbacks.EarlyStopping(monitor='val_loss', patience=40)"
      ]
    },
    {
      "cell_type": "code",
      "execution_count": null,
      "metadata": {
        "id": "7O_tcAVGDKOu"
      },
      "outputs": [],
      "source": [
        "CNN = tf.keras.models.Sequential([\n",
        "    tf.keras.layers.Input(shape=(128,128,1)),\n",
        "    tf.keras.layers.Conv2D(96, (11,11), strides = (4,4), activation='relu'),\n",
        "    tf.keras.layers.MaxPool2D(),\n",
        "    tf.keras.layers.ZeroPadding2D(padding= (2,2)),\n",
        "    tf.keras.layers.Conv2D(16, (3, 3), activation='relu'),\n",
        "    tf.keras.layers.MaxPool2D(),\n",
        "    tf.keras.layers.ZeroPadding2D(padding= (1,1)),\n",
        "    tf.keras.layers.Conv2D(8, (5, 5), activation='relu'),\n",
        "    tf.keras.layers.MaxPool2D(),\n",
        "    tf.keras.layers.Flatten(),\n",
        "    tf.keras.layers.Dense(4096, activation='relu'),\n",
        "    tf.keras.layers.Dropout(0.2),\n",
        "    tf.keras.layers.Dense(2048, activation='relu'),\n",
        "    tf.keras.layers.Dropout(0.2),\n",
        "    tf.keras.layers.Dense(108, activation='softmax')\n",
        "                             ])"
      ]
    },
    {
      "cell_type": "code",
      "execution_count": null,
      "metadata": {
        "id": "VCW3ngMDUTXE"
      },
      "outputs": [],
      "source": [
        "CNN.compile( optimizer='adam', loss=\"sparse_categorical_crossentropy\",  metrics= [tfa.metrics.F1Score(num_classes= 44, average='micro'), 'accuracy'])   # seyit cosine similarity loss yekhrej fiha problem idk kifch we do i justed tested hakak brk \n",
        "# CNN.summary()\n"
      ]
    },
    {
      "cell_type": "code",
      "execution_count": null,
      "metadata": {
        "id": "AwO7gwMvj9Q8"
      },
      "outputs": [],
      "source": [
        "# from sklearn.model_selection import cross_validate\n",
        "\n",
        "# _scoring = ['accuracy', 'precision', 'recall', 'f1']\n",
        "# results = cross_validate(estimator=CNN,\n",
        "#                                X=xtr,\n",
        "#                                y=ytr,\n",
        "#                                cv= 5,\n",
        "#                                scoring=_scoring,\n",
        "#                                return_train_score=True)"
      ]
    },
    {
      "cell_type": "code",
      "execution_count": null,
      "metadata": {
        "id": "EtjUZf0Nvep7"
      },
      "outputs": [],
      "source": [
        "# pipe = Pipeline([('CNN', CNN), ('svc', SVC())])   # matemchich .... pipeline yaccepti ghir transformers, and cnn hadik marahich transformer so we need to find kifch nmechoha\n",
        "# pipe.fit(xtr,ytr)"
      ]
    },
    {
      "cell_type": "code",
      "execution_count": null,
      "metadata": {
        "colab": {
          "base_uri": "https://localhost:8080/"
        },
        "id": "YO4cXV_1EPDG",
        "outputId": "d050b650-957e-451a-8f2d-64939aa461c9"
      },
      "outputs": [
        {
          "output_type": "stream",
          "name": "stdout",
          "text": [
            "Epoch 1/20\n",
            "24/24 [==============================] - 12s 387ms/step - loss: 5.0108 - f1_score: 0.0185 - accuracy: 0.0120\n",
            "Epoch 2/20\n",
            "24/24 [==============================] - 8s 329ms/step - loss: 4.6363 - f1_score: 0.0185 - accuracy: 0.0240\n",
            "Epoch 3/20\n",
            "24/24 [==============================] - 9s 388ms/step - loss: 4.6732 - f1_score: 0.0185 - accuracy: 0.0186\n",
            "Epoch 4/20\n",
            "24/24 [==============================] - 10s 405ms/step - loss: 4.5653 - f1_score: 0.0185 - accuracy: 0.0306\n",
            "Epoch 5/20\n",
            "24/24 [==============================] - 8s 309ms/step - loss: 4.5533 - f1_score: 0.0185 - accuracy: 0.0306\n",
            "Epoch 6/20\n",
            "24/24 [==============================] - 9s 400ms/step - loss: 4.4832 - f1_score: 0.0185 - accuracy: 0.0320\n",
            "Epoch 7/20\n",
            "24/24 [==============================] - 7s 299ms/step - loss: 4.5041 - f1_score: 0.0185 - accuracy: 0.0280\n",
            "Epoch 8/20\n",
            "24/24 [==============================] - 9s 388ms/step - loss: 4.4432 - f1_score: 0.0185 - accuracy: 0.0360\n",
            "Epoch 9/20\n",
            "24/24 [==============================] - 7s 301ms/step - loss: 4.4042 - f1_score: 0.0185 - accuracy: 0.0333\n",
            "Epoch 10/20\n",
            "24/24 [==============================] - 9s 376ms/step - loss: 4.3266 - f1_score: 0.0185 - accuracy: 0.0386\n",
            "Epoch 11/20\n",
            "24/24 [==============================] - 9s 359ms/step - loss: 4.2893 - f1_score: 0.0185 - accuracy: 0.0479\n",
            "Epoch 12/20\n",
            "24/24 [==============================] - 8s 311ms/step - loss: 4.2413 - f1_score: 0.0185 - accuracy: 0.0586\n",
            "Epoch 13/20\n",
            "24/24 [==============================] - 9s 390ms/step - loss: 4.1351 - f1_score: 0.0185 - accuracy: 0.0626\n",
            "Epoch 14/20\n",
            "24/24 [==============================] - 7s 297ms/step - loss: 4.0542 - f1_score: 0.0185 - accuracy: 0.0599\n",
            "Epoch 15/20\n",
            "24/24 [==============================] - 10s 422ms/step - loss: 3.7911 - f1_score: 0.0185 - accuracy: 0.0866\n",
            "Epoch 16/20\n",
            "24/24 [==============================] - 7s 301ms/step - loss: 3.7048 - f1_score: 0.0185 - accuracy: 0.1025\n",
            "Epoch 17/20\n",
            "24/24 [==============================] - 9s 385ms/step - loss: 3.4718 - f1_score: 0.0185 - accuracy: 0.1105\n",
            "Epoch 18/20\n",
            "24/24 [==============================] - 8s 337ms/step - loss: 3.3965 - f1_score: 0.0185 - accuracy: 0.1425\n",
            "Epoch 19/20\n",
            "24/24 [==============================] - 8s 341ms/step - loss: 3.2684 - f1_score: 0.0185 - accuracy: 0.1491\n",
            "Epoch 20/20\n",
            "24/24 [==============================] - 9s 374ms/step - loss: 3.1195 - f1_score: 0.0185 - accuracy: 0.1744\n"
          ]
        },
        {
          "output_type": "execute_result",
          "data": {
            "text/plain": [
              "<keras.callbacks.History at 0x7fc2207b2f10>"
            ]
          },
          "metadata": {},
          "execution_count": 15
        }
      ],
      "source": [
        "# CNN training   (we need to do it ki b svm ki blach)\n",
        "CNN.fit(\n",
        "    xtr,ytr,\n",
        "    # batch_size = 128,\n",
        "    # validation_data=xval,      # xval necreyiha apres\n",
        "    #callbacks=[lr_scheduler, my_callback],\n",
        "    epochs=20\n",
        ")"
      ]
    },
    {
      "cell_type": "code",
      "execution_count": null,
      "metadata": {
        "colab": {
          "base_uri": "https://localhost:8080/",
          "height": 182
        },
        "id": "Mi7peXswJfry",
        "outputId": "3c113497-880a-4061-9073-8773607cfe3a"
      },
      "outputs": [
        {
          "output_type": "stream",
          "name": "stdout",
          "text": [
            "3/3 [==============================] - 1s 89ms/step - loss: 3.5653 - f1_score: 0.0454 - accuracy: 0.2857\n"
          ]
        },
        {
          "output_type": "error",
          "ename": "ValueError",
          "evalue": "ignored",
          "traceback": [
            "\u001b[0;31m---------------------------------------------------------------------------\u001b[0m",
            "\u001b[0;31mValueError\u001b[0m                                Traceback (most recent call last)",
            "\u001b[0;32m<ipython-input-17-3842a59c1715>\u001b[0m in \u001b[0;36m<cell line: 1>\u001b[0;34m()\u001b[0m\n\u001b[0;32m----> 1\u001b[0;31m \u001b[0mloss\u001b[0m\u001b[0;34m,\u001b[0m \u001b[0macc\u001b[0m \u001b[0;34m=\u001b[0m \u001b[0mCNN\u001b[0m\u001b[0;34m.\u001b[0m\u001b[0mevaluate\u001b[0m\u001b[0;34m(\u001b[0m\u001b[0mxts\u001b[0m\u001b[0;34m,\u001b[0m\u001b[0myts\u001b[0m\u001b[0;34m)\u001b[0m\u001b[0;34m\u001b[0m\u001b[0;34m\u001b[0m\u001b[0m\n\u001b[0m",
            "\u001b[0;31mValueError\u001b[0m: too many values to unpack (expected 2)"
          ]
        }
      ],
      "source": [
        "loss, acc = CNN.evaluate(xts,yts)"
      ]
    },
    {
      "cell_type": "code",
      "execution_count": null,
      "metadata": {
        "colab": {
          "base_uri": "https://localhost:8080/"
        },
        "id": "QcyDMz72yrqb",
        "outputId": "83733761-89ea-4a70-a2f8-568a4aaed2b5"
      },
      "outputs": [
        {
          "output_type": "stream",
          "name": "stdout",
          "text": [
            "Model: \"sequential\"\n",
            "_________________________________________________________________\n",
            " Layer (type)                Output Shape              Param #   \n",
            "=================================================================\n",
            " conv2d (Conv2D)             (None, 30, 30, 96)        11712     \n",
            "                                                                 \n",
            " max_pooling2d (MaxPooling2D  (None, 15, 15, 96)       0         \n",
            " )                                                               \n",
            "                                                                 \n",
            " zero_padding2d (ZeroPadding  (None, 19, 19, 96)       0         \n",
            " 2D)                                                             \n",
            "                                                                 \n",
            " conv2d_1 (Conv2D)           (None, 17, 17, 16)        13840     \n",
            "                                                                 \n",
            " max_pooling2d_1 (MaxPooling  (None, 8, 8, 16)         0         \n",
            " 2D)                                                             \n",
            "                                                                 \n",
            " zero_padding2d_1 (ZeroPaddi  (None, 10, 10, 16)       0         \n",
            " ng2D)                                                           \n",
            "                                                                 \n",
            " conv2d_2 (Conv2D)           (None, 6, 6, 8)           3208      \n",
            "                                                                 \n",
            " max_pooling2d_2 (MaxPooling  (None, 3, 3, 8)          0         \n",
            " 2D)                                                             \n",
            "                                                                 \n",
            " flatten (Flatten)           (None, 72)                0         \n",
            "                                                                 \n",
            " dense (Dense)               (None, 4096)              299008    \n",
            "                                                                 \n",
            "=================================================================\n",
            "Total params: 327,768\n",
            "Trainable params: 327,768\n",
            "Non-trainable params: 0\n",
            "_________________________________________________________________\n"
          ]
        }
      ],
      "source": [
        "CNN.pop() # it will remove the last layer\n",
        "CNN.summary() # check the network "
      ]
    },
    {
      "cell_type": "code",
      "execution_count": null,
      "metadata": {
        "id": "_6qXLupu09Cq"
      },
      "outputs": [],
      "source": [
        "# feature extraction with wavelet\n",
        "\n",
        "WaveletTrain = []\n",
        "WaveletTest = []\n",
        "\n",
        "for i in range(len(xtr)):\n",
        "  LLtr = pywt.dwt2(xtr[i], 'bior2.2' )[0].astype('uint8')\n",
        "  LLtr = np.reshape( LLtr , (LLtr.shape[0]*LLtr.shape[1],))\n",
        "  WaveletTrain.append(LLtr) \n",
        "\n",
        "for k in range(len(xts)):\n",
        "  LLts = pywt.dwt2(xtr[i], 'bior2.2' )[0].astype('uint8')\n",
        "  LLts = np.reshape( LLts , (LLts.shape[0]*LLts.shape[1],))\n",
        "  WaveletTest.append(LLts)\n",
        " \n",
        "WTr_feat = np.array(WaveletTrain)\n",
        "WTs_feat = np.array(WaveletTest)"
      ]
    },
    {
      "cell_type": "code",
      "execution_count": null,
      "metadata": {
        "colab": {
          "base_uri": "https://localhost:8080/"
        },
        "id": "9v6jskjK30VU",
        "outputId": "5182c3a2-7a00-494f-d248-c92c9913757a"
      },
      "outputs": [
        {
          "output_type": "execute_result",
          "data": {
            "text/plain": [
              "(336, 4356)"
            ]
          },
          "metadata": {},
          "execution_count": 23
        }
      ],
      "source": [
        "WTr_feat.shape"
      ]
    },
    {
      "cell_type": "code",
      "execution_count": null,
      "metadata": {
        "id": "yYuotOcXytNJ"
      },
      "outputs": [],
      "source": [
        "CNN_train_feat = CNN(xtr)      # tmed vecteur fih 751 lignes (nbr des images) et chaque lignes c l features \n",
        "CNN_test_feat = CNN(xts)\n",
        "\n",
        "train_feat = np.hstack((CNN_train_feat, WTr_feat))    # Wtr c features men wavelat jayin de la forme  tan chaque ligne image, aya donc nconcateniw horzotalement bch yjona ga3 l features\n",
        "test_feat = np.hstack((CNN_test_feat, WTs_feat))\n"
      ]
    },
    {
      "cell_type": "code",
      "execution_count": null,
      "metadata": {
        "colab": {
          "base_uri": "https://localhost:8080/"
        },
        "id": "XFylLYvs5tyU",
        "outputId": "741c63f9-d4a7-4241-b632-8244f2321b8e"
      },
      "outputs": [
        {
          "output_type": "stream",
          "name": "stdout",
          "text": [
            "(336, 8452)\n",
            "(336,)\n"
          ]
        }
      ],
      "source": [
        "print(train_feat.shape)\n",
        "print(ytr.shape)"
      ]
    },
    {
      "cell_type": "code",
      "execution_count": null,
      "metadata": {
        "id": "KGCb7Ae442EO"
      },
      "outputs": [],
      "source": [
        "clf = SVC()\n",
        "clf.fit(CNN_train_feat, ytr)\n",
        "pred = clf.predict(CNN_test_feat)"
      ]
    },
    {
      "cell_type": "code",
      "source": [
        "clf1 = SVC()\n",
        "clf1.fit(train_feat, ytr)\n",
        "pred1 = clf.predict(test_feat)"
      ],
      "metadata": {
        "id": "ODkvY1O6fm0Y"
      },
      "execution_count": null,
      "outputs": []
    },
    {
      "cell_type": "code",
      "execution_count": null,
      "metadata": {
        "colab": {
          "base_uri": "https://localhost:8080/",
          "height": 452
        },
        "id": "iTczqx0pz5W9",
        "outputId": "6721a66d-ff9a-47b3-a3df-303001d38d17"
      },
      "outputs": [
        {
          "output_type": "stream",
          "name": "stdout",
          "text": [
            "Accuracy :  0.03571428571428571\n"
          ]
        },
        {
          "output_type": "display_data",
          "data": {
            "text/plain": [
              "<Figure size 640x480 with 2 Axes>"
            ],
            "image/png": "[encoded data removed]"
          },
          "metadata": {}
        }
      ],
      "source": [
        "from sklearn.metrics import confusion_matrix\n",
        "from seaborn import heatmap\n",
        "\n",
        "cm = confusion_matrix(yts,pred1)\n",
        "heatmap(cm)\n",
        "\n",
        "accuracy = float(cm.diagonal().sum())/len(yts)\n",
        "print(\"Accuracy : \", accuracy)"
      ]
    },
    {
      "cell_type": "markdown",
      "metadata": {
        "id": "LEnY27nPJYMI"
      },
      "source": [
        "Results : EPOCHS = 20\n",
        "- CNN pure : acc = 0.40 (0.28)\n",
        "- CNN brk + svm (sans dense) : acc = 0.367\n",
        "- 2 dense (4000 + 2000 ) + svm : acc = 0.44  (0.01)\n",
        "- 1 dense (4000) + svm : acc = 0.61\n",
        "\n",
        "- 2 dense + wavelet + svm : acc = 0.005319148936170213\n",
        "- 1 dense + wavelet + svm : acc = 0.015957446808510637\n",
        "\n",
        "Conclusion : mafihach wavelet for feature extraction\n",
        "i think we need ndiro cross validation psk kolma ybdl chwiya fhadak train testsplit ytbdl l resultat bzaaaaf ..."
      ]
    }
  ],
  "metadata": {
    "colab": {
      "provenance": []
    },
    "kernelspec": {
      "display_name": "Python 3",
      "name": "python3"
    },
    "language_info": {
      "name": "python"
    }
  },
  "nbformat": 4,
  "nbformat_minor": 0
}