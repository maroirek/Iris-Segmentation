{
  "cells": [
    {
      "cell_type": "code",
      "execution_count": 1,
      "metadata": {
        "colab": {
          "base_uri": "https://localhost:8080/"
        },
        "id": "77T27Z1CoXed",
        "outputId": "0596c350-217f-4d3e-d991-9f241af0bc94"
      },
      "outputs": [
        {
          "name": "stderr",
          "output_type": "stream",
          "text": [
            "c:\\Users\\21379\\anaconda3\\lib\\site-packages\\scipy\\__init__.py:146: UserWarning: A NumPy version >=1.16.5 and <1.23.0 is required for this version of SciPy (detected version 1.24.3\n",
            "  warnings.warn(f\"A NumPy version >={np_minversion} and <{np_maxversion}\"\n"
          ]
        }
      ],
      "source": [
        "import cv2 \n",
        "import matplotlib.pyplot as plt\n",
        "import numpy as np\n",
        "from sklearn.model_selection import train_test_split\n",
        "import pandas as pd\n",
        "from sklearn.svm import SVC\n",
        "import pywt\n",
        "from sklearn.model_selection import GridSearchCV\n",
        "from sklearn.pipeline import Pipeline\n",
        "from keras.wrappers.scikit_learn import KerasClassifier\n",
        "from sklearn import preprocessing\n",
        "import seaborn as sns\n",
        "import pickle \n",
        "from sklearn.metrics import confusion_matrix\n",
        "from seaborn import heatmap\n",
        "import tempfile\n",
        "from tensorflow import keras\n",
        "import tensorflow_model_optimization as tfmot\n",
        "\n",
        "import tensorflow as tf\n",
        "# import tensorflow_addons as tfa\n",
        "\n",
        "import os\n",
        "\n",
        "# try:\n",
        "#     tpu = tf.distribute.cluster_resolver.TPUClusterResolver()\n",
        "#     print('Device:', tpu.master())\n",
        "#     tf.config.experimental_connect_to_cluster(tpu)\n",
        "#     tf.tpu.experimental.initialize_tpu_system(tpu)\n",
        "#     strategy = tf.distribute.experimental.TPUStrategy(tpu)\n",
        "# except:\n",
        "#     strategy = tf.distribute.get_strategy()\n",
        "# print('Number of replicas:', strategy.num_replicas_in_sync)\n",
        "    \n",
        "# print(tf.__version__)"
      ]
    },
    {
      "cell_type": "code",
      "execution_count": 2,
      "metadata": {},
      "outputs": [
        {
          "name": "stdout",
          "output_type": "stream",
          "text": [
            "nbr de class pheonix 63\n"
          ]
        }
      ],
      "source": [
        "# Creation de la data complete\n",
        "\n",
        "iitd = []   # , casia phonix, mmu\n",
        "Liitd = []     # , Lcasia,LPho,  Lmmu\n",
        "\n",
        "datasets = ['phoenix']   # 'iitd', 'casiaclean',\n",
        "start = [3]   # ,3,5\n",
        "data = [iitd]  # iitd, casia,\n",
        "labels = [Liitd]  # Liitd, Lcasia,\n",
        "\n",
        "for d, s, images, label in zip(datasets, start, data, labels ):\n",
        "    for root, dirr, imgs in os.walk(f'data/aug/{d}'):\n",
        "            for img in imgs:\n",
        "                if ((img.endswith('bmp')) or (img.endswith('png')) or (img.endswith('jpg'))) :\n",
        "                    path = os.path.join(root,img)  \n",
        "                    image = cv2.imread(path, cv2.IMREAD_GRAYSCALE)\n",
        "                    images.append(image)\n",
        "                    label.append(f'{d[:4]}_{img[:s]}')\n",
        "\n",
        "LE = preprocessing.LabelEncoder()\n",
        "labels_id_iitd = list(LE.fit_transform(Liitd)) \n",
        "labels_dic_iitd = {k:v for k,v in zip(Liitd,labels_id_iitd)}\n",
        "                                                        \n",
        "iitd = np.array(iitd)\n",
        "labels_id_iitd = np.array(labels_id_iitd) \n",
        "\n",
        "print('nbr de class pheonix',max(labels_id_iitd))\n"
      ]
    },
    {
      "cell_type": "code",
      "execution_count": null,
      "metadata": {},
      "outputs": [],
      "source": [
        "## to check if data are balanced\n",
        "\n",
        "# f , n = np.unique(labels_id_casia, return_counts=True) \n",
        "# r = np.where(n < 20)[0]\n",
        "\n",
        "# for i in range(len(r)):\n",
        "#     print([k for (k,v) in labels_dic_casia.items() if v == r[i]])\n",
        "    \n",
        "# print(min(n))\n",
        "# print(max(n))\n",
        "# sns.set(rc={'figure.figsize':(25,10)})\n",
        "# sns.countplot(labels_id_casia, color='red')"
      ]
    },
    {
      "cell_type": "code",
      "execution_count": null,
      "metadata": {},
      "outputs": [],
      "source": [
        "# # # to balance classes \n",
        "# data_bal=[]\n",
        "# labels_bal=[]\n",
        "# for i,j in zip(labels_id_casia,casia) :\n",
        "#     if (labels_bal.count(i)<20):\n",
        "#         data_bal.append(j)\n",
        "#         labels_bal.append(i)\n",
        "        \n",
        "# labels_id22 = list(LE.fit_transform(labels_bal))\n",
        "\n",
        "# num_classes = max(labels_id22)+1\n",
        "# print(f'nbr of classes is {num_classes}')    \n",
        "# print(len(data_bal))     \n",
        "# f, n = np.unique(labels_bal, return_counts=True)\n",
        "# plt.figure(figsize=(25,10))\n",
        "# plt.plot(f,n)\n",
        "# plt.show()\n",
        "# print(min(n))   \n",
        "# data_bal = np.array(data_bal)\n",
        "# labels_id22 = np.array(labels_id22) "
      ]
    },
    {
      "cell_type": "code",
      "execution_count": 3,
      "metadata": {
        "id": "5Za1Zwsw-00z"
      },
      "outputs": [],
      "source": [
        "xtr, xts, ytr, yts = train_test_split(iitd,labels_id_iitd, test_size=0.2)"
      ]
    },
    {
      "cell_type": "code",
      "execution_count": null,
      "metadata": {
        "id": "b7fMJUo3DI4S"
      },
      "outputs": [],
      "source": [
        "# dynamic learning rate\n",
        "def exponential_decay(lr0, s):     # i need to search what is s and wch kayen type of learning rate schedulers mais mzl i didnt use it yet hada but fhamt wch aw sari.\n",
        "    def exponential_decay_fn(epoch):       # this is an inner function, 3ndhom many uses hado such as : encapsulation and preserve the inner function from ga3 wch ysra bara l outter function\n",
        "        return lr0 **(epoch / s)\n",
        "    return exponential_decay_fn\n",
        "\n",
        "exponential_decay_fn = exponential_decay(0.01, 10)\n",
        "\n",
        "lr_scheduler = tf.keras.callbacks.LearningRateScheduler(exponential_decay_fn)   # callbacks : fct li they take as argument other functions\n",
        "\n",
        "class MyCallback(tf.keras.callbacks.Callback):\n",
        "    def on_epoch_end(self, epoch, logs={}):\n",
        "        if logs.get('val_acc') > 0.99:\n",
        "            print(\"\\nReached accuracy threshold! Terminating training.\")\n",
        "            self.model.stop_training = True\n",
        "            \n",
        "my_callback = MyCallback()\n",
        "\n",
        "#EarlyStopping callback to make sure model is always learning\n",
        "early_stopping = tf.keras.callbacks.EarlyStopping(monitor='val_loss', patience=40)"
      ]
    },
    {
      "cell_type": "code",
      "execution_count": 15,
      "metadata": {},
      "outputs": [
        {
          "name": "stdout",
          "output_type": "stream",
          "text": [
            "Model: \"sequential_3\"\n",
            "_________________________________________________________________\n",
            " Layer (type)                Output Shape              Param #   \n",
            "=================================================================\n",
            " conv2d_9 (Conv2D)           (None, 30, 30, 96)        11712     \n",
            "                                                                 \n",
            " max_pooling2d_9 (MaxPooling  (None, 15, 15, 96)       0         \n",
            " 2D)                                                             \n",
            "                                                                 \n",
            " zero_padding2d_6 (ZeroPaddi  (None, 19, 19, 96)       0         \n",
            " ng2D)                                                           \n",
            "                                                                 \n",
            " conv2d_10 (Conv2D)          (None, 17, 17, 16)        13840     \n",
            "                                                                 \n",
            " max_pooling2d_10 (MaxPoolin  (None, 8, 8, 16)         0         \n",
            " g2D)                                                            \n",
            "                                                                 \n",
            " zero_padding2d_7 (ZeroPaddi  (None, 10, 10, 16)       0         \n",
            " ng2D)                                                           \n",
            "                                                                 \n",
            " conv2d_11 (Conv2D)          (None, 6, 6, 8)           3208      \n",
            "                                                                 \n",
            " max_pooling2d_11 (MaxPoolin  (None, 3, 3, 8)          0         \n",
            " g2D)                                                            \n",
            "                                                                 \n",
            " flatten_3 (Flatten)         (None, 72)                0         \n",
            "                                                                 \n",
            " dense_9 (Dense)             (None, 4096)              299008    \n",
            "                                                                 \n",
            " dropout_6 (Dropout)         (None, 4096)              0         \n",
            "                                                                 \n",
            " dense_10 (Dense)            (None, 2048)              8390656   \n",
            "                                                                 \n",
            " dropout_7 (Dropout)         (None, 2048)              0         \n",
            "                                                                 \n",
            " dense_11 (Dense)            (None, 64)                131136    \n",
            "                                                                 \n",
            "=================================================================\n",
            "Total params: 8,849,560\n",
            "Trainable params: 8,849,560\n",
            "Non-trainable params: 0\n",
            "_________________________________________________________________\n"
          ]
        }
      ],
      "source": [
        "CNN = tf.keras.models.Sequential([\n",
        "    tf.keras.layers.Input(shape=(128,128,1)),\n",
        "    tf.keras.layers.Conv2D(96, (11,11), strides = (4,4), activation='relu'),\n",
        "    tf.keras.layers.MaxPool2D(),\n",
        "    tf.keras.layers.ZeroPadding2D(padding= (2,2)),\n",
        "    tf.keras.layers.Conv2D(16, (3, 3), activation='relu'),\n",
        "    tf.keras.layers.MaxPool2D(),\n",
        "    tf.keras.layers.ZeroPadding2D(padding= (1,1)),\n",
        "    tf.keras.layers.Conv2D(8, (5, 5), activation='relu'),\n",
        "    tf.keras.layers.MaxPool2D(),\n",
        "    tf.keras.layers.Flatten(),\n",
        "    tf.keras.layers.Dense(4096, activation='relu'),\n",
        "    tf.keras.layers.Dropout(0.5),\n",
        "    tf.keras.layers.Dense(2048, activation='relu'),\n",
        "    tf.keras.layers.Dropout(0.5),\n",
        "    tf.keras.layers.Dense(64, activation='softmax')\n",
        "                            ])\n",
        "CNN.compile( optimizer='adam', loss=\"sparse_categorical_crossentropy\",  metrics= 'accuracy')\n",
        "CNN.summary()"
      ]
    },
    {
      "cell_type": "code",
      "execution_count": 5,
      "metadata": {},
      "outputs": [
        {
          "name": "stdout",
          "output_type": "stream",
          "text": [
            "Epoch 1/32\n",
            "96/96 [==============================] - 34s 290ms/step - loss: 5.5558 - accuracy: 0.0039 - val_loss: 5.2875 - val_accuracy: 0.0149\n",
            "Epoch 2/32\n",
            "96/96 [==============================] - 28s 289ms/step - loss: 5.1807 - accuracy: 0.0246 - val_loss: 5.0828 - val_accuracy: 0.0260\n",
            "Epoch 3/32\n",
            "96/96 [==============================] - 28s 291ms/step - loss: 4.8032 - accuracy: 0.0489 - val_loss: 4.6413 - val_accuracy: 0.0706\n",
            "Epoch 4/32\n",
            "96/96 [==============================] - 27s 285ms/step - loss: 4.2190 - accuracy: 0.0965 - val_loss: 3.7186 - val_accuracy: 0.1580\n",
            "Epoch 5/32\n",
            "96/96 [==============================] - 27s 286ms/step - loss: 3.5585 - accuracy: 0.1743 - val_loss: 3.4525 - val_accuracy: 0.2026\n",
            "Epoch 6/32\n",
            "96/96 [==============================] - 27s 286ms/step - loss: 2.9329 - accuracy: 0.2764 - val_loss: 2.8333 - val_accuracy: 0.3104\n",
            "Epoch 7/32\n",
            "96/96 [==============================] - 27s 286ms/step - loss: 2.4521 - accuracy: 0.3743 - val_loss: 2.2968 - val_accuracy: 0.4145\n",
            "Epoch 8/32\n",
            "96/96 [==============================] - 28s 287ms/step - loss: 1.9913 - accuracy: 0.4708 - val_loss: 1.9406 - val_accuracy: 0.4870\n",
            "Epoch 9/32\n",
            "96/96 [==============================] - 28s 291ms/step - loss: 1.6808 - accuracy: 0.5443 - val_loss: 1.7849 - val_accuracy: 0.5446\n",
            "Epoch 10/32\n",
            "96/96 [==============================] - 28s 288ms/step - loss: 1.4189 - accuracy: 0.5978 - val_loss: 1.5223 - val_accuracy: 0.5911\n",
            "Epoch 11/32\n",
            "96/96 [==============================] - 28s 293ms/step - loss: 1.2670 - accuracy: 0.6490 - val_loss: 1.3252 - val_accuracy: 0.6654\n",
            "Epoch 12/32\n",
            "96/96 [==============================] - 27s 284ms/step - loss: 0.9946 - accuracy: 0.7091 - val_loss: 1.3788 - val_accuracy: 0.6357\n",
            "Epoch 13/32\n",
            "96/96 [==============================] - 27s 281ms/step - loss: 0.8960 - accuracy: 0.7334 - val_loss: 1.1813 - val_accuracy: 0.6989\n",
            "Epoch 14/32\n",
            "96/96 [==============================] - 27s 282ms/step - loss: 0.7795 - accuracy: 0.7712 - val_loss: 1.2269 - val_accuracy: 0.6914\n",
            "Epoch 15/32\n",
            "96/96 [==============================] - 27s 280ms/step - loss: 0.6948 - accuracy: 0.7850 - val_loss: 1.1840 - val_accuracy: 0.7175\n",
            "Epoch 16/32\n",
            "96/96 [==============================] - 27s 280ms/step - loss: 0.6218 - accuracy: 0.8188 - val_loss: 1.0814 - val_accuracy: 0.7454\n",
            "Epoch 17/32\n",
            "96/96 [==============================] - 27s 280ms/step - loss: 0.5718 - accuracy: 0.8306 - val_loss: 1.1163 - val_accuracy: 0.7416\n",
            "Epoch 18/32\n",
            "96/96 [==============================] - 27s 279ms/step - loss: 0.4712 - accuracy: 0.8592 - val_loss: 1.0108 - val_accuracy: 0.7770\n",
            "Epoch 19/32\n",
            "96/96 [==============================] - 27s 283ms/step - loss: 0.5476 - accuracy: 0.8418 - val_loss: 1.1626 - val_accuracy: 0.7416\n",
            "Epoch 20/32\n",
            "96/96 [==============================] - 27s 283ms/step - loss: 0.5041 - accuracy: 0.8621 - val_loss: 1.2297 - val_accuracy: 0.7305\n",
            "Epoch 21/32\n",
            "96/96 [==============================] - 27s 285ms/step - loss: 0.4955 - accuracy: 0.8506 - val_loss: 0.9064 - val_accuracy: 0.7993\n",
            "Epoch 22/32\n",
            "96/96 [==============================] - 28s 288ms/step - loss: 0.4042 - accuracy: 0.8867 - val_loss: 0.9013 - val_accuracy: 0.7862\n",
            "Epoch 23/32\n",
            "96/96 [==============================] - 27s 280ms/step - loss: 0.3581 - accuracy: 0.8979 - val_loss: 0.9614 - val_accuracy: 0.7955\n",
            "Epoch 24/32\n",
            "96/96 [==============================] - 27s 282ms/step - loss: 0.2596 - accuracy: 0.9133 - val_loss: 0.9904 - val_accuracy: 0.8123\n",
            "Epoch 25/32\n",
            "96/96 [==============================] - 27s 284ms/step - loss: 0.3207 - accuracy: 0.9048 - val_loss: 1.2064 - val_accuracy: 0.7714\n",
            "Epoch 26/32\n",
            "96/96 [==============================] - 27s 281ms/step - loss: 0.3262 - accuracy: 0.9107 - val_loss: 1.1184 - val_accuracy: 0.7807\n",
            "Epoch 27/32\n",
            "96/96 [==============================] - 27s 281ms/step - loss: 0.2899 - accuracy: 0.9107 - val_loss: 1.0453 - val_accuracy: 0.7918\n",
            "Epoch 28/32\n",
            "96/96 [==============================] - 27s 286ms/step - loss: 0.2868 - accuracy: 0.9163 - val_loss: 0.9708 - val_accuracy: 0.7844\n",
            "Epoch 29/32\n",
            "96/96 [==============================] - 28s 293ms/step - loss: 0.3019 - accuracy: 0.9068 - val_loss: 1.0931 - val_accuracy: 0.7881\n",
            "Epoch 30/32\n",
            "96/96 [==============================] - 29s 297ms/step - loss: 0.3055 - accuracy: 0.9110 - val_loss: 1.1271 - val_accuracy: 0.7862\n",
            "Epoch 31/32\n",
            "96/96 [==============================] - 28s 293ms/step - loss: 0.3115 - accuracy: 0.9084 - val_loss: 1.1200 - val_accuracy: 0.7900\n",
            "Epoch 32/32\n",
            "96/96 [==============================] - 28s 294ms/step - loss: 0.2945 - accuracy: 0.9209 - val_loss: 1.1514 - val_accuracy: 0.7788\n"
          ]
        }
      ],
      "source": [
        "# CNN training   (we need to do it ki b svm ki blach)\n",
        "history = CNN.fit(\n",
        "    xtr,ytr,\n",
        "    # batch_size = 32,\n",
        "    validation_split=0.15,      # xval necreyiha apres\n",
        "    # callbacks=[lr_scheduler, early_stopping],\n",
        "    epochs=32\n",
        ")"
      ]
    },
    {
      "cell_type": "code",
      "execution_count": 6,
      "metadata": {
        "colab": {
          "base_uri": "https://localhost:8080/",
          "height": 182
        },
        "id": "Mi7peXswJfry",
        "outputId": "3c113497-880a-4061-9073-8773607cfe3a"
      },
      "outputs": [
        {
          "name": "stdout",
          "output_type": "stream",
          "text": [
            "28/28 [==============================] - 1s 50ms/step - loss: 1.2349 - accuracy: 0.7913\n"
          ]
        }
      ],
      "source": [
        "# loss, acc = CNN.evaluate(xts,yts)"
      ]
    },
    {
      "cell_type": "code",
      "execution_count": null,
      "metadata": {},
      "outputs": [],
      "source": [
        "# CNN.save('test.h5', save_format='h5')\n",
        "# test = tf.keras.saving.load_model('mmu_86_43_test_86_11_val_92_79_train.h5', compile=False) "
      ]
    },
    {
      "cell_type": "code",
      "execution_count": 7,
      "metadata": {},
      "outputs": [],
      "source": [
        "# CNN.save_weights('iitd_79_test.model')"
      ]
    },
    {
      "cell_type": "code",
      "execution_count": 56,
      "metadata": {},
      "outputs": [
        {
          "data": {
            "text/plain": [
              "<tensorflow.python.checkpoint.checkpoint.CheckpointLoadStatus at 0x16749e55ca0>"
            ]
          },
          "execution_count": 56,
          "metadata": {},
          "output_type": "execute_result"
        }
      ],
      "source": [
        "CNN.load_weights('model_save/phonix/without_pruning/phonix_0-86test.model')"
      ]
    },
    {
      "cell_type": "code",
      "execution_count": 7,
      "metadata": {},
      "outputs": [
        {
          "name": "stdout",
          "output_type": "stream",
          "text": [
            "Saved baseline model to: C:\\Users\\21379\\AppData\\Local\\Temp\\tmp1qfk0urn.h5\n"
          ]
        }
      ],
      "source": [
        "\n",
        "# _, keras_file = tempfile.mkstemp('.h5')\n",
        "# tf.keras.models.save_model(CNN, keras_file, include_optimizer=False)\n",
        "# print('Saved baseline model to:', keras_file)\n",
        "\n",
        "\n",
        "# hadi it saves bsh i didnt try yet to load the model ysma idk wila i ll have the same problem as model.save wla lala"
      ]
    },
    {
      "cell_type": "code",
      "execution_count": 61,
      "metadata": {},
      "outputs": [
        {
          "name": "stdout",
          "output_type": "stream",
          "text": [
            "Model: \"sequential_3\"\n",
            "_________________________________________________________________\n",
            " Layer (type)                Output Shape              Param #   \n",
            "=================================================================\n",
            " prune_low_magnitude_conv2d_  (None, 30, 30, 96)       23330     \n",
            " 9 (PruneLowMagnitude)                                           \n",
            "                                                                 \n",
            " prune_low_magnitude_max_poo  (None, 15, 15, 96)       1         \n",
            " ling2d_9 (PruneLowMagnitude                                     \n",
            " )                                                               \n",
            "                                                                 \n",
            " prune_low_magnitude_zero_pa  (None, 19, 19, 96)       1         \n",
            " dding2d_6 (PruneLowMagnitud                                     \n",
            " e)                                                              \n",
            "                                                                 \n",
            " prune_low_magnitude_conv2d_  (None, 17, 17, 16)       27666     \n",
            " 10 (PruneLowMagnitude)                                          \n",
            "                                                                 \n",
            " prune_low_magnitude_max_poo  (None, 8, 8, 16)         1         \n",
            " ling2d_10 (PruneLowMagnitud                                     \n",
            " e)                                                              \n",
            "                                                                 \n",
            " prune_low_magnitude_zero_pa  (None, 10, 10, 16)       1         \n",
            " dding2d_7 (PruneLowMagnitud                                     \n",
            " e)                                                              \n",
            "                                                                 \n",
            " prune_low_magnitude_conv2d_  (None, 6, 6, 8)          6410      \n",
            " 11 (PruneLowMagnitude)                                          \n",
            "                                                                 \n",
            " prune_low_magnitude_max_poo  (None, 3, 3, 8)          1         \n",
            " ling2d_11 (PruneLowMagnitud                                     \n",
            " e)                                                              \n",
            "                                                                 \n",
            " prune_low_magnitude_flatten  (None, 72)               1         \n",
            " _3 (PruneLowMagnitude)                                          \n",
            "                                                                 \n",
            " prune_low_magnitude_dense_9  (None, 4096)             593922    \n",
            "  (PruneLowMagnitude)                                            \n",
            "                                                                 \n",
            " prune_low_magnitude_dropout  (None, 4096)             1         \n",
            " _6 (PruneLowMagnitude)                                          \n",
            "                                                                 \n",
            " prune_low_magnitude_dense_1  (None, 2048)             16779266  \n",
            " 0 (PruneLowMagnitude)                                           \n",
            "                                                                 \n",
            " prune_low_magnitude_dropout  (None, 2048)             1         \n",
            " _7 (PruneLowMagnitude)                                          \n",
            "                                                                 \n",
            " prune_low_magnitude_dense_1  (None, 64)               262210    \n",
            " 1 (PruneLowMagnitude)                                           \n",
            "                                                                 \n",
            "=================================================================\n",
            "Total params: 17,692,812\n",
            "Trainable params: 8,849,560\n",
            "Non-trainable params: 8,843,252\n",
            "_________________________________________________________________\n"
          ]
        }
      ],
      "source": [
        "\n",
        "# Compute end step to finish pruning after 32 epochs.  (hanseyi 32 kima f training ta3 without pruning)\n",
        "\n",
        "validation_split = 0.15 \n",
        "num_images = xtr.shape[0] * (1 - validation_split)\n",
        "\n",
        "# Define model for pruning.\n",
        "pruning_params = {\n",
        "      'pruning_schedule': tfmot.sparsity.keras.PolynomialDecay(initial_sparsity=0.50,\n",
        "                                                               final_sparsity=0.80,\n",
        "                                                               begin_step=0\n",
        "                                                               ,end_step=np.ceil(num_images).astype(np.int32))\n",
        "}\n",
        "\n",
        "model_for_pruning = tfmot.sparsity.keras.prune_low_magnitude(CNN, **pruning_params)\n",
        "\n",
        "# `prune_low_magnitude` requires a recompile.\n",
        "model_for_pruning.compile(optimizer='adam', loss=tf.keras.losses.SparseCategoricalCrossentropy(from_logits=True), metrics=['accuracy'])\n",
        "model_for_pruning.load_weights('model_save/phonix/with_pruning/phonix_86_wella_93-76_with_pruned_model_wow.model')\n",
        "model_for_pruning.summary()\n",
        "\n",
        "# after compiling this li n9dro ndiro i believe load weights"
      ]
    },
    {
      "cell_type": "code",
      "execution_count": 19,
      "metadata": {},
      "outputs": [
        {
          "name": "stdout",
          "output_type": "stream",
          "text": [
            "Epoch 1/32\n"
          ]
        },
        {
          "name": "stderr",
          "output_type": "stream",
          "text": [
            "c:\\Users\\21379\\anaconda3\\lib\\site-packages\\keras\\backend.py:5612: UserWarning: \"`sparse_categorical_crossentropy` received `from_logits=True`, but the `output` argument was produced by a Softmax activation and thus does not represent logits. Was this intended?\n",
            "  output, from_logits = _get_logits(\n"
          ]
        },
        {
          "name": "stdout",
          "output_type": "stream",
          "text": [
            "50/50 [==============================] - 27s 325ms/step - loss: 4.4785 - accuracy: 0.0247 - val_loss: 3.9769 - val_accuracy: 0.0430\n",
            "Epoch 2/32\n",
            "50/50 [==============================] - 21s 411ms/step - loss: 3.7704 - accuracy: 0.0728 - val_loss: 3.8915 - val_accuracy: 0.0932\n",
            "Epoch 3/32\n",
            "50/50 [==============================] - 15s 309ms/step - loss: 3.4494 - accuracy: 0.1373 - val_loss: 3.1384 - val_accuracy: 0.1541\n",
            "Epoch 4/32\n",
            "50/50 [==============================] - 18s 358ms/step - loss: 2.8848 - accuracy: 0.2297 - val_loss: 2.7788 - val_accuracy: 0.2115\n",
            "Epoch 5/32\n",
            "50/50 [==============================] - 16s 327ms/step - loss: 2.3739 - accuracy: 0.3639 - val_loss: 2.1063 - val_accuracy: 0.3978\n",
            "Epoch 6/32\n",
            "50/50 [==============================] - 18s 366ms/step - loss: 1.9536 - accuracy: 0.4285 - val_loss: 1.9653 - val_accuracy: 0.4552\n",
            "Epoch 7/32\n",
            "50/50 [==============================] - 15s 291ms/step - loss: 1.5842 - accuracy: 0.5278 - val_loss: 1.4151 - val_accuracy: 0.5950\n",
            "Epoch 8/32\n",
            "50/50 [==============================] - 17s 339ms/step - loss: 1.2532 - accuracy: 0.6253 - val_loss: 1.2832 - val_accuracy: 0.6308\n",
            "Epoch 9/32\n",
            "50/50 [==============================] - 15s 293ms/step - loss: 0.9756 - accuracy: 0.6956 - val_loss: 0.8556 - val_accuracy: 0.7491\n",
            "Epoch 10/32\n",
            "50/50 [==============================] - 17s 351ms/step - loss: 0.6726 - accuracy: 0.8013 - val_loss: 0.8845 - val_accuracy: 0.7455\n",
            "Epoch 11/32\n",
            "50/50 [==============================] - 15s 292ms/step - loss: 0.6299 - accuracy: 0.8133 - val_loss: 0.5684 - val_accuracy: 0.8172\n",
            "Epoch 12/32\n",
            "50/50 [==============================] - 18s 353ms/step - loss: 0.4900 - accuracy: 0.8506 - val_loss: 0.5468 - val_accuracy: 0.8351\n",
            "Epoch 13/32\n",
            "50/50 [==============================] - 15s 291ms/step - loss: 0.4015 - accuracy: 0.8829 - val_loss: 0.4086 - val_accuracy: 0.8961\n",
            "Epoch 14/32\n",
            "50/50 [==============================] - 17s 340ms/step - loss: 0.3040 - accuracy: 0.9108 - val_loss: 0.5788 - val_accuracy: 0.8566\n",
            "Epoch 15/32\n",
            "50/50 [==============================] - 15s 301ms/step - loss: 0.3379 - accuracy: 0.8987 - val_loss: 0.4350 - val_accuracy: 0.8781\n",
            "Epoch 16/32\n",
            "50/50 [==============================] - 19s 374ms/step - loss: 0.1949 - accuracy: 0.9424 - val_loss: 0.3354 - val_accuracy: 0.9140\n",
            "Epoch 17/32\n",
            "50/50 [==============================] - 15s 303ms/step - loss: 0.2349 - accuracy: 0.9272 - val_loss: 0.3625 - val_accuracy: 0.8996\n",
            "Epoch 18/32\n",
            "50/50 [==============================] - 18s 352ms/step - loss: 0.1508 - accuracy: 0.9576 - val_loss: 0.2663 - val_accuracy: 0.9211\n",
            "Epoch 19/32\n",
            "50/50 [==============================] - 15s 304ms/step - loss: 0.1755 - accuracy: 0.9506 - val_loss: 0.3011 - val_accuracy: 0.9176\n",
            "Epoch 20/32\n",
            "50/50 [==============================] - 17s 347ms/step - loss: 0.1378 - accuracy: 0.9639 - val_loss: 0.3472 - val_accuracy: 0.9211\n",
            "Epoch 21/32\n",
            "50/50 [==============================] - 15s 302ms/step - loss: 0.1266 - accuracy: 0.9646 - val_loss: 0.2978 - val_accuracy: 0.9283\n",
            "Epoch 22/32\n",
            "50/50 [==============================] - 17s 346ms/step - loss: 0.1166 - accuracy: 0.9658 - val_loss: 0.3516 - val_accuracy: 0.9140\n",
            "Epoch 23/32\n",
            "50/50 [==============================] - 15s 305ms/step - loss: 0.1464 - accuracy: 0.9563 - val_loss: 0.2610 - val_accuracy: 0.9319\n",
            "Epoch 24/32\n",
            "50/50 [==============================] - 17s 349ms/step - loss: 0.1010 - accuracy: 0.9658 - val_loss: 0.2933 - val_accuracy: 0.9283\n",
            "Epoch 25/32\n",
            "50/50 [==============================] - 15s 309ms/step - loss: 0.0925 - accuracy: 0.9709 - val_loss: 0.2571 - val_accuracy: 0.9391\n",
            "Epoch 26/32\n",
            "50/50 [==============================] - 18s 350ms/step - loss: 0.0892 - accuracy: 0.9715 - val_loss: 0.3274 - val_accuracy: 0.9211\n",
            "Epoch 27/32\n",
            "50/50 [==============================] - 15s 305ms/step - loss: 0.0837 - accuracy: 0.9753 - val_loss: 0.2028 - val_accuracy: 0.9355\n",
            "Epoch 28/32\n",
            "50/50 [==============================] - 18s 352ms/step - loss: 0.0740 - accuracy: 0.9810 - val_loss: 0.2119 - val_accuracy: 0.9427\n",
            "Epoch 29/32\n",
            "50/50 [==============================] - 17s 348ms/step - loss: 0.0620 - accuracy: 0.9810 - val_loss: 0.1824 - val_accuracy: 0.9642\n",
            "Epoch 30/32\n",
            "50/50 [==============================] - 18s 352ms/step - loss: 0.0591 - accuracy: 0.9797 - val_loss: 0.2523 - val_accuracy: 0.9391\n",
            "Epoch 31/32\n",
            "50/50 [==============================] - 15s 307ms/step - loss: 0.0449 - accuracy: 0.9848 - val_loss: 0.3376 - val_accuracy: 0.9319\n",
            "Epoch 32/32\n",
            "50/50 [==============================] - 16s 318ms/step - loss: 0.0499 - accuracy: 0.9854 - val_loss: 0.3143 - val_accuracy: 0.9319\n"
          ]
        },
        {
          "data": {
            "text/plain": [
              "<keras.callbacks.History at 0x1674d540d30>"
            ]
          },
          "execution_count": 19,
          "metadata": {},
          "output_type": "execute_result"
        }
      ],
      "source": [
        "# traning with pruning (before saving the weights hadi)\n",
        "logdir = tempfile.mkdtemp()\n",
        "\n",
        "callbacks = [\n",
        "  tfmot.sparsity.keras.UpdatePruningStep(),\n",
        "  tfmot.sparsity.keras.PruningSummaries(log_dir=logdir),\n",
        "]\n",
        "\n",
        "model_for_pruning.fit(xtr, ytr,\n",
        "                  epochs= 32,\n",
        "                  validation_split=validation_split,\n",
        "                  callbacks=callbacks)"
      ]
    },
    {
      "cell_type": "code",
      "execution_count": 62,
      "metadata": {},
      "outputs": [
        {
          "name": "stderr",
          "output_type": "stream",
          "text": [
            "c:\\Users\\21379\\anaconda3\\lib\\site-packages\\keras\\backend.py:5612: UserWarning: \"`sparse_categorical_crossentropy` received `from_logits=True`, but the `output` argument was produced by a Softmax activation and thus does not represent logits. Was this intended?\n",
            "  output, from_logits = _get_logits(\n"
          ]
        },
        {
          "name": "stdout",
          "output_type": "stream",
          "text": [
            "15/15 [==============================] - 2s 70ms/step - loss: 0.3388 - accuracy: 0.9376\n"
          ]
        }
      ],
      "source": [
        "loss, acc = model_for_pruning.evaluate(xts, yts)"
      ]
    },
    {
      "cell_type": "code",
      "execution_count": 63,
      "metadata": {},
      "outputs": [],
      "source": [
        "# model_for_pruning.save_weights('phonix_86_wella_93-76_with_pruned_model_wow.model')"
      ]
    },
    {
      "cell_type": "code",
      "execution_count": null,
      "metadata": {},
      "outputs": [],
      "source": [
        "# # cross validation bsh 9er3a for computer vision\n",
        "\n",
        "# num_classes = 44\n",
        "# def CNN () :\n",
        "#     CNN = tf.keras.models.Sequential([\n",
        "#         tf.keras.layers.Input(shape=(128,128,1)),\n",
        "#         tf.keras.layers.Conv2D(96, (11,11), strides = (4,4), activation='relu'),\n",
        "#         tf.keras.layers.MaxPool2D(),\n",
        "#         tf.keras.layers.ZeroPadding2D(padding= (2,2)),\n",
        "#         tf.keras.layers.Conv2D(16, (3, 3), activation='relu'),\n",
        "#         tf.keras.layers.MaxPool2D(),\n",
        "#         tf.keras.layers.ZeroPadding2D(padding= (1,1)),\n",
        "#         tf.keras.layers.Conv2D(8, (5, 5), activation='relu'),\n",
        "#         tf.keras.layers.MaxPool2D(),\n",
        "#         tf.keras.layers.Flatten(),\n",
        "#         tf.keras.layers.Dense(4096, activation='relu'),\n",
        "#         tf.keras.layers.Dropout(0.5),\n",
        "#         tf.keras.layers.Dense(2048, activation='relu'),\n",
        "#         tf.keras.layers.Dropout(0.5),\n",
        "#         tf.keras.layers.Dense(num_classes, activation='softmax')\n",
        "#                                 ])\n",
        "#     CNN.compile( optimizer='adam', loss=\"sparse_categorical_crossentropy\",  metrics= 'accuracy')\n",
        "#     return CNN\n",
        "\n",
        "# # tfa.metrics.F1Score(num_classes= 44, average='micro')\n",
        "# # CNN.summary()\n",
        "\n",
        "# def display_cv_results(search_results):\n",
        "#     print('Best score = {:.4f} using {}'.format(search_results.best_score_, search_results.best_params_))\n",
        "#     means = search_results.cv_results_['mean_test_score']\n",
        "#     stds = search_results.cv_results_['std_test_score']\n",
        "#     params = search_results.cv_results_['params']\n",
        "#     for mean, stdev, param in zip(means, stds, params):\n",
        "#         print('mean test accuracy +/- std = {:.4f} +/- {:.4f} with: {}'.format(mean, stdev, param)) \n",
        "        \n",
        "# from sklearn.model_selection import KFold\n",
        "\n",
        "# kfold = KFold(n_splits=5, shuffle=True)\n",
        "# model = KerasClassifier(build_fn=CNN)\n",
        "# param_grid = {\n",
        "#     'batch_size': [16, 32, 64],\n",
        "#     'epochs': [20,30,40],\n",
        "# }\n",
        "\n",
        "# grid = GridSearchCV(estimator=model, param_grid=param_grid, scoring = 'accuracy', cv=kfold)\n",
        "# grid_result = grid.fit(mmu,labels_id_mmu)  # fit the full dataset as we are using cross validation \n",
        "\n",
        "# display_cv_results(grid_result)   \n",
        "\n",
        "# # cross val b sklearn\n",
        "# from sklearn.model_selection import cross_validate\n",
        "\n",
        "# _scoring = ['accuracy', 'precision', 'recall', 'f1']\n",
        "# results = cross_validate(estimator=CNN,\n",
        "#                                X=xtr,\n",
        "#                                y=ytr,\n",
        "#                                cv= 5,\n",
        "#                                scoring=_scoring,\n",
        "#                                return_train_score=True)"
      ]
    },
    {
      "cell_type": "code",
      "execution_count": 67,
      "metadata": {
        "colab": {
          "base_uri": "https://localhost:8080/"
        },
        "id": "QcyDMz72yrqb",
        "outputId": "83733761-89ea-4a70-a2f8-568a4aaed2b5"
      },
      "outputs": [
        {
          "name": "stdout",
          "output_type": "stream",
          "text": [
            "Model: \"sequential_3\"\n",
            "_________________________________________________________________\n",
            " Layer (type)                Output Shape              Param #   \n",
            "=================================================================\n",
            " prune_low_magnitude_conv2d_  (None, 30, 30, 96)       23330     \n",
            " 9 (PruneLowMagnitude)                                           \n",
            "                                                                 \n",
            " prune_low_magnitude_max_poo  (None, 15, 15, 96)       1         \n",
            " ling2d_9 (PruneLowMagnitude                                     \n",
            " )                                                               \n",
            "                                                                 \n",
            " prune_low_magnitude_zero_pa  (None, 19, 19, 96)       1         \n",
            " dding2d_6 (PruneLowMagnitud                                     \n",
            " e)                                                              \n",
            "                                                                 \n",
            " prune_low_magnitude_conv2d_  (None, 17, 17, 16)       27666     \n",
            " 10 (PruneLowMagnitude)                                          \n",
            "                                                                 \n",
            " prune_low_magnitude_max_poo  (None, 8, 8, 16)         1         \n",
            " ling2d_10 (PruneLowMagnitud                                     \n",
            " e)                                                              \n",
            "                                                                 \n",
            " prune_low_magnitude_zero_pa  (None, 10, 10, 16)       1         \n",
            " dding2d_7 (PruneLowMagnitud                                     \n",
            " e)                                                              \n",
            "                                                                 \n",
            " prune_low_magnitude_conv2d_  (None, 6, 6, 8)          6410      \n",
            " 11 (PruneLowMagnitude)                                          \n",
            "                                                                 \n",
            " prune_low_magnitude_max_poo  (None, 3, 3, 8)          1         \n",
            " ling2d_11 (PruneLowMagnitud                                     \n",
            " e)                                                              \n",
            "                                                                 \n",
            " prune_low_magnitude_flatten  (None, 72)               1         \n",
            " _3 (PruneLowMagnitude)                                          \n",
            "                                                                 \n",
            " prune_low_magnitude_dense_9  (None, 4096)             593922    \n",
            "  (PruneLowMagnitude)                                            \n",
            "                                                                 \n",
            "=================================================================\n",
            "Total params: 651,334\n",
            "Trainable params: 327,768\n",
            "Non-trainable params: 323,566\n",
            "_________________________________________________________________\n"
          ]
        }
      ],
      "source": [
        "model_for_pruning.pop() # it will remove the last layer\n",
        "model_for_pruning.summary() # check the network "
      ]
    },
    {
      "cell_type": "code",
      "execution_count": 25,
      "metadata": {
        "id": "_6qXLupu09Cq"
      },
      "outputs": [],
      "source": [
        "# feature extraction with wavelet\n",
        "\n",
        "WaveletTrain = []\n",
        "WaveletTest = []\n",
        "\n",
        "for i in range(len(xtr)):\n",
        "  LLtr = pywt.dwt2(xtr[i], 'bior2.2' )[0].astype('uint8')\n",
        "  LLtr = np.reshape( LLtr , (LLtr.shape[0]*LLtr.shape[1],))\n",
        "  WaveletTrain.append(LLtr) \n",
        "\n",
        "for k in range(len(xts)):\n",
        "  LLts = pywt.dwt2(xts[k], 'bior2.2' )[0].astype('uint8')\n",
        "  LLts = np.reshape( LLts , (LLts.shape[0]*LLts.shape[1],))\n",
        "  WaveletTest.append(LLts)\n",
        " \n",
        "WTr_feat = np.array(WaveletTrain)\n",
        "WTs_feat = np.array(WaveletTest)"
      ]
    },
    {
      "cell_type": "code",
      "execution_count": null,
      "metadata": {
        "colab": {
          "base_uri": "https://localhost:8080/"
        },
        "id": "9v6jskjK30VU",
        "outputId": "5182c3a2-7a00-494f-d248-c92c9913757a"
      },
      "outputs": [],
      "source": [
        "WTr_feat.shape"
      ]
    },
    {
      "cell_type": "code",
      "execution_count": 26,
      "metadata": {},
      "outputs": [],
      "source": [
        "kernel = cv2.getGaborKernel( ksize= (5,5) , sigma= 1 ,theta= 0,lambd= 1*np.pi/4 ,gamma= 0, psi= 0)\n",
        "Gabor = cv2.filter2D(image,-1, kernel= kernel)\n",
        "\n",
        "# feature extraction with wavelet\n",
        "\n",
        "GaborTrain = []\n",
        "GaborTest = []\n",
        "\n",
        "for i in range(len(xtr)):\n",
        "  gabtr = cv2.filter2D(xtr[i],-1, kernel= kernel)\n",
        "  gabtr = np.reshape( gabtr , (gabtr.shape[0]*gabtr.shape[1],))\n",
        "  GaborTrain.append(gabtr) \n",
        "\n",
        "for k in range(len(xts)):\n",
        "  gabts = cv2.filter2D(xts[k],-1, kernel= kernel)\n",
        "  gabts = np.reshape( gabts , (gabts.shape[0]*gabts.shape[1],))\n",
        "  GaborTest.append(gabts)\n",
        " \n",
        "GTr_feat = np.array(GaborTrain)\n",
        "GTs_feat = np.array(GaborTest)"
      ]
    },
    {
      "cell_type": "code",
      "execution_count": 68,
      "metadata": {
        "id": "yYuotOcXytNJ"
      },
      "outputs": [],
      "source": [
        "CNN_train_feat = model_for_pruning(xtr)      # tmed vecteur fih 751 lignes (nbr des images) et chaque lignes c l features \n",
        "CNN_test_feat = model_for_pruning(xts)\n",
        "\n",
        "train_feat_W = np.hstack((CNN_train_feat, WTr_feat))    # Wtr c features men wavelat jayin de la forme  tan chaque ligne image, aya donc nconcateniw horzotalement bch yjona ga3 l features\n",
        "test_feat_W = np.hstack((CNN_test_feat, WTs_feat))\n",
        "\n",
        "train_feat_G = np.hstack((CNN_train_feat, GTr_feat))    # Wtr c features men wavelat jayin de la forme  tan chaque ligne image, aya donc nconcateniw horzotalement bch yjona ga3 l features\n",
        "test_feat_G = np.hstack((CNN_test_feat, GTs_feat))\n",
        "\n"
      ]
    },
    {
      "cell_type": "code",
      "execution_count": null,
      "metadata": {
        "colab": {
          "base_uri": "https://localhost:8080/"
        },
        "id": "XFylLYvs5tyU",
        "outputId": "741c63f9-d4a7-4241-b632-8244f2321b8e"
      },
      "outputs": [],
      "source": [
        "print(train_feat_G.shape)\n",
        "print(ytr.shape)"
      ]
    },
    {
      "cell_type": "code",
      "execution_count": 69,
      "metadata": {
        "id": "KGCb7Ae442EO"
      },
      "outputs": [],
      "source": [
        "clf = SVC()\n",
        "clf.fit(CNN_train_feat, ytr)\n",
        "pred = clf.predict(CNN_test_feat)"
      ]
    },
    {
      "cell_type": "code",
      "execution_count": 71,
      "metadata": {},
      "outputs": [],
      "source": [
        "# to save svm model\n",
        "filename = 'one_dense_svm_phonix_with_pruning_91.sav'\n",
        "pickle.dump(clf, open(filename, 'wb'))\n",
        "# test = pickle.load(open(filename, 'rb'))\n",
        "# result = test.score(CNN_test_feat, yts)\n",
        "# print(result)"
      ]
    },
    {
      "cell_type": "code",
      "execution_count": 50,
      "metadata": {
        "id": "ODkvY1O6fm0Y"
      },
      "outputs": [],
      "source": [
        "clf_W = SVC()\n",
        "clf_W.fit(train_feat_W, ytr)\n",
        "pred_W = clf_W.predict(test_feat_W)"
      ]
    },
    {
      "cell_type": "code",
      "execution_count": 51,
      "metadata": {},
      "outputs": [],
      "source": [
        "clf_G = SVC()\n",
        "clf_G.fit(train_feat_G, ytr)\n",
        "pred_G = clf_G.predict(test_feat_G)"
      ]
    },
    {
      "cell_type": "code",
      "execution_count": 70,
      "metadata": {
        "colab": {
          "base_uri": "https://localhost:8080/",
          "height": 452
        },
        "id": "iTczqx0pz5W9",
        "outputId": "6721a66d-ff9a-47b3-a3df-303001d38d17"
      },
      "outputs": [
        {
          "name": "stdout",
          "output_type": "stream",
          "text": [
            "Accuracy :  0.9161290322580645\n"
          ]
        },
        {
          "data": {
            "image/png": "[encoded data removed]",
            "text/plain": [
              "<Figure size 432x288 with 2 Axes>"
            ]
          },
          "metadata": {
            "needs_background": "light"
          },
          "output_type": "display_data"
        }
      ],
      "source": [
        "cm = confusion_matrix(yts,pred)\n",
        "heatmap(cm)\n",
        "\n",
        "accuracy = float(cm.diagonal().sum())/len(yts)\n",
        "print(\"Accuracy : \", accuracy)"
      ]
    },
    {
      "cell_type": "code",
      "execution_count": 53,
      "metadata": {},
      "outputs": [
        {
          "name": "stdout",
          "output_type": "stream",
          "text": [
            "Accuracy :  0.8172043010752689\n"
          ]
        },
        {
          "data": {
            "image/png": "[encoded data removed]",
            "text/plain": [
              "<Figure size 432x288 with 2 Axes>"
            ]
          },
          "metadata": {
            "needs_background": "light"
          },
          "output_type": "display_data"
        }
      ],
      "source": [
        "cmW = confusion_matrix(yts,pred_W)\n",
        "heatmap(cmW)\n",
        "\n",
        "accuracyW = float(cmW.diagonal().sum())/len(yts)\n",
        "print(\"Accuracy : \", accuracyW)"
      ]
    },
    {
      "cell_type": "code",
      "execution_count": 54,
      "metadata": {},
      "outputs": [
        {
          "name": "stdout",
          "output_type": "stream",
          "text": [
            "Accuracy :  0.8838709677419355\n"
          ]
        },
        {
          "data": {
            "image/png": "[encoded data removed]",
            "text/plain": [
              "<Figure size 432x288 with 2 Axes>"
            ]
          },
          "metadata": {
            "needs_background": "light"
          },
          "output_type": "display_data"
        }
      ],
      "source": [
        "cmG = confusion_matrix(yts,pred_G)\n",
        "heatmap(cmG)\n",
        "\n",
        "accuracyG = float(cmG.diagonal().sum())/len(yts)\n",
        "print(\"Accuracy : \", accuracyG)"
      ]
    },
    {
      "attachments": {},
      "cell_type": "markdown",
      "metadata": {
        "id": "LEnY27nPJYMI"
      },
      "source": [
        "## 1st try with mixed datasets \n",
        "Results : EPOCHS = 20\n",
        "- CNN pure : acc = 0.40 (0.28)\n",
        "- CNN brk + svm (sans dense) : acc = 0.367\n",
        "- 2 dense (4000 + 2000 ) + svm : acc = 0.44  (0.01)\n",
        "- 1 dense (4000) + svm : acc = 0.61\n",
        "\n",
        "- 2 dense + wavelet + svm : acc = 0.005319148936170213\n",
        "- 1 dense + wavelet + svm : acc = 0.015957446808510637\n",
        "\n",
        "Conclusion : mafihach wavelet for feature extraction\n",
        "i think we need ndiro cross validation psk kolma ybdl chwiya fhadak train testsplit ytbdl l resultat bzaaaaf ..."
      ]
    },
    {
      "attachments": {},
      "cell_type": "markdown",
      "metadata": {},
      "source": [
        "## 2nd try with seperate datasets :\n",
        "IITD :  20 / 32 epochs\n",
        "- CNN pure : train : 85.85   test 78.79  / train:  0.9443 val: 0.8961  test: 0.9011    \n",
        " train:  0.9209 val: 0.7788  test: 0.7913    \n",
        "\n",
        "- CNN 2 dense + svm : 0.7701 / 0.7879464285714286 (with cnn 79)\n",
        "- CNN 2 dense + wavelet + svm : 0.3103 / 0.32142857142857145\n",
        "- CNN 2 dense + Gabor + svm : 0.7031 / 0.6752232142857143\n",
        "\n",
        "- CNN 1 dense + svm : 0.7824 /  0.8493303571428571\n",
        "- CNN 1 dense + wavelet + svm : 0.2422 / 0.28013392857142855\n",
        "- CNN 1 dense + Gabor + svm : 0.6920 / 0.6674107142857143\n",
        "\n",
        "- CNN 0 dense + svm : 0.7545 / 0.8203125\n",
        "- CNN 0 dense + wavelet + svm : 0.375 / 0.3638392857142857\n",
        "- CNN 0 dense + Gabor + svm : 0.7154 / 0.6774553571428571\n",
        "\n",
        "\n",
        "\n",
        "\n",
        "\n"
      ]
    },
    {
      "attachments": {},
      "cell_type": "markdown",
      "metadata": {},
      "source": [
        "mmu : 20 / 32 epochs\n",
        "\n",
        "- CNN pure train : 0.8292 , test : 0.7786   / train 0.9013, val 0.7460, test : 0.7405\n",
        "\n",
        "- CNN 2 dense + svm : 0.8428571428571429  / 0.7214\n",
        "- CNN 2 dense + wavelet + svm : 0.75     / 0.7523\n",
        "- CNN 2 dense + Gabor + svm : 0.7309     / 0.6976\n",
        "\n",
        "- CNN 1 dense + svm : 0.8142857142857143   /   0.6785714285714286\n",
        "- CNN 1 dense + wavelet + svm : 0.7095238095238096 /  0.7071428571428572\n",
        "- CNN 1 dense + Gabor + svm : 0.7 / 0.6547619047619048\n",
        "\n",
        "- CNN 0 dense + svm : 0.6095238095238096\n",
        "- CNN 0 dense + wavelet + svm : 0.8333333333333334\n",
        "- CNN 0 dense + Gabor + svm : 0.7428571428571429\n",
        "\n",
        "why wavelet on mmu better than wavelet on iitd :\n",
        "iitd fiha bzf variations and wavelet ynahi l high freq qhich means ya3mi bzf l image and ynahi l texture so machi\n",
        "adapté l images lifihom high variations kima iitdm par contre gabor non. and that s why fl cas ta3 mmu both mchaw bien, \n",
        "ps mmu les images jayin homogenes, like mafihomch variations bzf so wavelet maya3mihach fihom.\n",
        "\n",
        "\n",
        "\n",
        "casia :  (30 ep : 0.8763, test : 0.8201) (epochs 20 : train : 0.8318 test : 0.8044) \n"
      ]
    },
    {
      "attachments": {},
      "cell_type": "markdown",
      "metadata": {},
      "source": [
        "phonix : 32 epochs\n",
        "- CNN pure : train 0.9532  val 0.8817 test 0.8688\n",
        "\n",
        "- CNN 2 dense + svm : 0.9376344086021505\n",
        "- CNN 2 dense + wavelet + svm : 0.7935483870967742\n",
        "- CNN 2 dense + Gabor + svm : 0.8580645161290322\n",
        "\n",
        "- CNN 1 dense + svm : 0.7956989247311828\n",
        "- CNN 1 dense + wavelet + svm : 0.7827956989247312\n",
        "- CNN 1 dense + Gabor + svm : 0.8451612903225807\n",
        "\n",
        "- CNN 0 dense + svm : 0.6774193548387096\n",
        "- CNN 0 dense + wavelet + svm : 0.7956989247311828\n",
        "- CNN 0 dense + Gabor + svm : 0.875268817204301\n",
        "\n",
        "\n",
        "pheonix with pruning :\n",
        "\n",
        "- CNN pure : tr : 0.9854 val : 0.9319 ts : 0.9376 \n",
        "\n",
        "- CNN 2 dense + svm : 0.9225806451612903\n",
        "- CNN 2 dense + wavelet + svm : 0.7935483870967742\n",
        "- CNN 2 dense + Gabor + svm : 0.864516129032258\n",
        "\n",
        "- CNN 1 dense + svm : 0.9161290322580645\n",
        "- CNN 1 dense + wavelet + svm : 0.7784946236559139 \n",
        "- CNN 1 dense + Gabor + svm : 0.8559139784946237\n",
        "\n",
        "- CNN 0 dense + svm : 0.8903225806451613\n",
        "- CNN 0 dense + wavelet + svm : 0.8172043010752689\n",
        "- CNN 0 dense + Gabor + svm : 0.8838709677419355\n",
        "\n",
        "we may chose cnn 1 dense we lose 2% and we gain 8 millions de parametres.\n",
        "\n"
      ]
    }
  ],
  "metadata": {
    "colab": {
      "provenance": []
    },
    "kernelspec": {
      "display_name": "Python 3",
      "name": "python3"
    },
    "language_info": {
      "codemirror_mode": {
        "name": "ipython",
        "version": 3
      },
      "file_extension": ".py",
      "mimetype": "text/x-python",
      "name": "python",
      "nbconvert_exporter": "python",
      "pygments_lexer": "ipython3",
      "version": "3.9.12"
    }
  },
  "nbformat": 4,
  "nbformat_minor": 0
}
