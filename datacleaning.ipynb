{
 "cells": [
  {
   "cell_type": "code",
   "execution_count": 1,
   "metadata": {},
   "outputs": [
    {
     "name": "stderr",
     "output_type": "stream",
     "text": [
      "c:\\Users\\21379\\anaconda3\\lib\\site-packages\\scipy\\__init__.py:146: UserWarning: A NumPy version >=1.16.5 and <1.23.0 is required for this version of SciPy (detected version 1.24.2\n",
      "  warnings.warn(f\"A NumPy version >={np_minversion} and <{np_maxversion}\"\n"
     ]
    }
   ],
   "source": [
    "import cv2 \n",
    "import numpy as np\n",
    "import os\n",
    "from sklearn import preprocessing\n",
    "import matplotlib.pyplot as plt"
   ]
  },
  {
   "cell_type": "code",
   "execution_count": 49,
   "metadata": {},
   "outputs": [],
   "source": [
    "# data cleaning\n",
    "def data_elim (image, label, L, newpath, img):\n",
    "    hist = cv2.calcHist([image], [0], None, [256], [0, 256])\n",
    "    if (np.where(hist == max(hist))[0][0] != 0) :\n",
    "        cv2.imwrite(f'{newpath}/{label}_____{img}', image)\n",
    "    else :\n",
    "        if(max(hist)/(image.shape[0]*image.shape[1])<0.7):\n",
    "            cv2.imwrite(f'{newpath}/{label}_____{img}', image)\n",
    "        else:\n",
    "            L.append(label)\n",
    "\n",
    "def data_clean(old_path, new_path, data_elim, datacleaned):\n",
    "    for root, dir, images in os.walk(old_path):\n",
    "        for img in images:\n",
    "            if ((img.endswith('jpg')) or (img.endswith('bmp')) or (img.endswith('png'))) and (not((img.endswith(').jpg')) or (img.endswith(').bmp')))) :       \n",
    "                path= os.path.join(root, img)\n",
    "                label = img[:5]\n",
    "                imag = cv2.imread(path, cv2.IMREAD_GRAYSCALE)\n",
    "\n",
    "                if len(imag) != 0 :\n",
    "                    imag= cv2.resize(imag, (128,128) , interpolation = cv2.INTER_AREA)\n",
    "                    data_elim(imag,label , datacleaned, new_path, img)\n",
    "    return datacleaned"
   ]
  },
  {
   "cell_type": "code",
   "execution_count": 44,
   "metadata": {},
   "outputs": [
    {
     "data": {
      "text/plain": [
       "7590"
      ]
     },
     "execution_count": 44,
     "metadata": {},
     "output_type": "execute_result"
    }
   ],
   "source": [
    "x = []\n",
    "y = []\n",
    "for root, dir, images in os.walk('cleaned'):\n",
    "    for img in images:\n",
    "        x.append(img)\n",
    "        y.append(img[0:5])\n",
    "\n",
    "le = preprocessing.LabelEncoder()\n",
    "z = list(le.fit_transform(y))\n",
    "\n",
    "labels_dic= {k:v for k,v in zip(y,z)}\n",
    "len(x)"
   ]
  },
  {
   "cell_type": "code",
   "execution_count": 39,
   "metadata": {},
   "outputs": [
    {
     "data": {
      "text/plain": [
       "(array([   0,    1,    2, ..., 2005, 2006, 2007], dtype=int64),\n",
       " array([ 3,  2,  1, ...,  5, 10, 10], dtype=int64))"
      ]
     },
     "execution_count": 39,
     "metadata": {},
     "output_type": "execute_result"
    }
   ],
   "source": [
    "np.unique(z, return_counts=True) "
   ]
  },
  {
   "cell_type": "code",
   "execution_count": 45,
   "metadata": {},
   "outputs": [
    {
     "name": "stdout",
     "output_type": "stream",
     "text": [
      "6385\n"
     ]
    }
   ],
   "source": [
    "d = [i for i,k in zip(x , z) if z.count(k)>1]\n",
    "\n",
    "# z.count(1256)\n",
    "print(len(d))"
   ]
  },
  {
   "cell_type": "code",
   "execution_count": 47,
   "metadata": {},
   "outputs": [],
   "source": [
    "for root, dir, images in os.walk('cleaned'):\n",
    "    for img in images:\n",
    "        if img in d :       \n",
    "            path= os.path.join(root, img)\n",
    "            image = cv2.imread(path, cv2.IMREAD_GRAYSCALE)\n",
    "            cv2.imwrite(f'cleaned/classunique/{img}', image)"
   ]
  },
  {
   "cell_type": "code",
   "execution_count": 48,
   "metadata": {},
   "outputs": [
    {
     "data": {
      "text/plain": [
       "6385"
      ]
     },
     "execution_count": 48,
     "metadata": {},
     "output_type": "execute_result"
    }
   ],
   "source": [
    "v=[]\n",
    "for root, dir, images in os.walk('cleaned/classunique'):\n",
    "    for img in images:\n",
    "        v.append(img)\n",
    "len(v)"
   ]
  },
  {
   "cell_type": "code",
   "execution_count": 15,
   "metadata": {},
   "outputs": [
    {
     "data": {
      "text/plain": [
       "(array(['S2001', 'S2002', 'S2003', 'S2004', 'S2005', 'S2006', 'S2007',\n",
       "        'S2008', 'S2009', 'S2010', 'S2011', 'S2012', 'S2013', 'S2014',\n",
       "        'S2015', 'S2016', 'S2017', 'S2018', 'S2019', 'S2020', 'S3001'],\n",
       "       dtype='<U5'),\n",
       " array([38, 40, 37, 39, 33, 39, 40, 20, 39, 37, 24, 39, 38, 37, 37, 36, 24,\n",
       "        35, 34, 29,  8], dtype=int64))"
      ]
     },
     "execution_count": 15,
     "metadata": {},
     "output_type": "execute_result"
    }
   ],
   "source": [
    "casia800 = []\n",
    "for root, dir, images in os.walk('cleaned/casia800'):\n",
    "    for img in images:\n",
    "        casia800.append(img[0:5])\n",
    "casia800 = np.array(casia800)\n",
    "np.unique(casia800, return_counts=True)   # nbr de classes  108   bin casiaaa w mmu\n",
    "# # plt.scatter(f1,n1)\n",
    "# # plt.show()\n",
    "# plt.hist(casia800)"
   ]
  },
  {
   "cell_type": "code",
   "execution_count": 7,
   "metadata": {},
   "outputs": [
    {
     "name": "stdout",
     "output_type": "stream",
     "text": [
      "['S2002_____S2002L01.jpg', 'S2002_____S2002L02.jpg', 'S2002_____S2002L03.jpg', 'S2002_____S2002L04.jpg', 'S2002_____S2002L05.jpg', 'S2002_____S2002L06.jpg', 'S2002_____S2002L07.jpg', 'S2002_____S2002L08.jpg', 'S2002_____S2002L09.jpg', 'S2002_____S2002L10.jpg', 'S2002_____S2002L11.jpg', 'S2002_____S2002L12.jpg', 'S2002_____S2002L13.jpg', 'S2002_____S2002L14.jpg', 'S2002_____S2002L15.jpg', 'S2002_____S2002L16.jpg', 'S2002_____S2002L17.jpg', 'S2002_____S2002L18.jpg', 'S2002_____S2002L19.jpg', 'S2002_____S2002L20.jpg', 'S2002_____S2002R01.jpg', 'S2002_____S2002R02.jpg', 'S2002_____S2002R03.jpg', 'S2002_____S2002R04.jpg', 'S2002_____S2002R05.jpg', 'S2002_____S2002R06.jpg', 'S2002_____S2002R07.jpg', 'S2002_____S2002R08.jpg', 'S2002_____S2002R09.jpg', 'S2002_____S2002R10.jpg', 'S2002_____S2002R11.jpg', 'S2002_____S2002R12.jpg', 'S2002_____S2002R13.jpg', 'S2002_____S2002R14.jpg', 'S2002_____S2002R15.jpg', 'S2002_____S2002R16.jpg', 'S2002_____S2002R17.jpg', 'S2002_____S2002R18.jpg', 'S2002_____S2002R19.jpg', 'S2002_____S2002R20.jpg']\n"
     ]
    }
   ],
   "source": [
    "s2=[]\n",
    "for root, dir, images in os.walk('cleaned'):\n",
    "    for img in images:\n",
    "        if img.startswith('S2002') :\n",
    "            s2.append(img)\n",
    "print(s2)"
   ]
  },
  {
   "cell_type": "code",
   "execution_count": 19,
   "metadata": {},
   "outputs": [
    {
     "name": "stdout",
     "output_type": "stream",
     "text": [
      "['001_1']\n"
     ]
    }
   ],
   "source": [
    "f , n = np.unique(y, return_counts=True) \n",
    "# plt.figure(figsize=(25,25)) \n",
    "# plt.plot(f,n)\n",
    "# plt.show()\n",
    "\n",
    "\n",
    "# print(n.argmax())\n",
    "maxi = [k for (k,v) in labels_dic.items() if v == np.where(n == 1)[0][0]]\n",
    "print(maxi)"
   ]
  }
 ],
 "metadata": {
  "kernelspec": {
   "display_name": "base",
   "language": "python",
   "name": "python3"
  },
  "language_info": {
   "codemirror_mode": {
    "name": "ipython",
    "version": 3
   },
   "file_extension": ".py",
   "mimetype": "text/x-python",
   "name": "python",
   "nbconvert_exporter": "python",
   "pygments_lexer": "ipython3",
   "version": "3.9.12"
  },
  "orig_nbformat": 4
 },
 "nbformat": 4,
 "nbformat_minor": 2
}
