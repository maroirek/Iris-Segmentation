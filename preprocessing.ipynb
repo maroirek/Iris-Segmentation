{
  "nbformat": 4,
  "nbformat_minor": 0,
  "metadata": {
    "colab": {
      "provenance": []
    },
    "kernelspec": {
      "name": "python3",
      "display_name": "Python 3"
    },
    "language_info": {
      "name": "python"
    }
  },
  "cells": [
    {
      "cell_type": "code",
      "execution_count": 12,
      "metadata": {
        "colab": {
          "base_uri": "https://localhost:8080/"
        },
        "id": "i_Gx3g_j02hT",
        "outputId": "2d4c0fe5-0fca-4087-9722-d85c3a389259"
      },
      "outputs": [
        {
          "output_type": "stream",
          "name": "stdout",
          "text": [
            "Drive already mounted at /content/drive; to attempt to forcibly remount, call drive.mount(\"/content/drive\", force_remount=True).\n"
          ]
        }
      ],
      "source": [
        "from skimage.transform import hough_circle, hough_circle_peaks\n",
        "from skimage.feature import canny\n",
        "import cv2 \n",
        "import numpy as np\n",
        "import pywt\n",
        "from sklearn.model_selection import train_test_split\n",
        "from sklearn.svm import SVC\n",
        "import csv\n",
        "\n",
        "import tensorflow as tf\n",
        "\n",
        "import os\n",
        "from google.colab import drive\n",
        "drive.mount('/content/drive')"
      ]
    },
    {
      "cell_type": "code",
      "execution_count": 13,
      "metadata": {
        "id": "R2xKgm1Ru0Wb"
      },
      "outputs": [],
      "source": [
        "# Segmentation \n",
        "def mask (image, Fcint, Fcext, cxe, cye, cxi, cyi):\n",
        "    nl= image.shape[0]\n",
        "    nc=  image.shape[1]\n",
        "    xe = np.arange(-cxe[0],nc-cxe[0],1)\n",
        "    ye = np.arange(-cye[0],nl-cye[0],1)\n",
        "    xxe, yye = np.meshgrid(xe, ye, sparse=True)\n",
        "    ze = np.sqrt(xxe*xxe + yye*yye)\n",
        "    xi = np.arange(-cxi[0],nc-cxi[0],1)\n",
        "    yi = np.arange(-cyi[0],nl-cyi[0],1)\n",
        "    xxi, yyi = np.meshgrid(xi, yi, sparse=True)\n",
        "    zi = np.sqrt(xxi*xxi + yyi*yyi)\n",
        "    \n",
        "    return (ze<Fcext)*(Fcint<zi)\n",
        "\n",
        "def seg (image) :   \n",
        "# Thresholding and edge detection\n",
        "\n",
        "    filterSize =(5, 5)\n",
        "    kernel = np.ones((5, 5), np.uint8)\n",
        "    image = cv2.erode(img,kernel)     # bch naho holes li capable yjo fla pupille or at least ne9sohom  (testit b image ta3 taha ta3 dataset AMF)\n",
        "\n",
        "    ret1,th1 = cv2.threshold(image,30,255,cv2.THRESH_BINARY)\n",
        "    edgesint= canny(th1, sigma=3, low_threshold=150, high_threshold=255)\n",
        "\n",
        "    ret2,th2 = cv2.threshold(image,120,255,cv2.THRESH_BINARY)\n",
        "    edgesext = canny(th2, sigma=3, low_threshold=150, high_threshold=255)\n",
        "\n",
        "# calculate hough radius\n",
        "    hough_radiii = np.arange(20, 60)\n",
        "    hough_resi = hough_circle(edgesint, hough_radiii)\n",
        "\n",
        "    hough_radiie = np.arange(70, 2000)\n",
        "    hough_rese = hough_circle(edgesext, hough_radiie)\n",
        "\n",
        "# Select the most prominent 2 circles\n",
        "    accumsi, cxi, cyi, radiii = hough_circle_peaks(hough_resi, hough_radiii,total_num_peaks=1)\n",
        "    accumse, cxe, cye, radiie = hough_circle_peaks(hough_rese, hough_radiie,total_num_peaks=1)\n",
        "    \n",
        "    if ( len(cxi)!= 0 ) and (len(cxe)!= 0) and ( len(cyi)!= 0 ) and (len(cye)!= 0) and (radiii[0]!= 0) and (radiie[0]!= 0) :\n",
        "        Seg = (image) * mask (image, radiii, radiie, cxe, cye, cxi, cyi)\n",
        "        return Seg, cxi[0],cyi[0], radiii[0], radiie[0]\n",
        "    \n",
        "    else : return [], None, None,None, None"
      ]
    },
    {
      "cell_type": "code",
      "execution_count": 14,
      "metadata": {
        "id": "RDwkXP-ku8rt"
      },
      "outputs": [],
      "source": [
        "# Reflections \n",
        "def reflect(gray):\n",
        "    # reflections' localizing and enhancement  \n",
        "    ret1,th1 = cv2.threshold(gray,200,255,cv2.THRESH_BINARY)\n",
        "    refpart = gray*(th1//255)\n",
        "    refpart  = refpart.astype('uint8')\n",
        "    ref_HE= cv2.equalizeHist(refpart)\n",
        "    \n",
        "    # image totally enhaced \n",
        "    img_enh_f = gray - th1 + ref_HE\n",
        "\n",
        "    for i in range(img_enh_f.shape[0]):\n",
        "      for j in range(img_enh_f.shape[1]):\n",
        "        img_enh_f[i][j]= max(0,img_enh_f[i][j])  # didnt find relu function in openCV\n",
        "\n",
        "\n",
        "    return img_enh_f "
      ]
    },
    {
      "cell_type": "code",
      "execution_count": 15,
      "metadata": {
        "id": "_48On8t2vGej"
      },
      "outputs": [],
      "source": [
        "# Normalisation\n",
        "def norm (image, cxi,cyi, radiii, radiie):\n",
        "    if (cxi != None) & (cyi != None) & (radiii != None) & (radiie != None):\n",
        "      theta = np.arange(0, 360, 1) #theta\n",
        "      rad = np.arange(0, (radiie-radiii), 1) #radius\n",
        "      \n",
        "      normal = np.empty(shape = [rad.size, theta.size])\n",
        "      \n",
        "      for t in theta:\n",
        "          for r in rad:\n",
        "              polarX = int(((r+radiii) * np.cos(t*3.14/180)) + cxi)\n",
        "              polarY = int(((r+radiii) * np.sin(t*3.14/180)) + cyi)\n",
        "              if (polarX < image.shape[1]) and (polarY < image.shape[0]):\n",
        "                  normal[int(r)][int(t) - 1] = image[polarY][polarX]\n",
        "              else : \n",
        "                  normal[int(r)][int(t) - 1] = 0\n",
        "      return normal\n",
        "    else : return []"
      ]
    },
    {
      "cell_type": "code",
      "execution_count": 16,
      "metadata": {
        "id": "A3sEqQSGvN_S"
      },
      "outputs": [],
      "source": [
        "# Enhacement\n",
        "def gammaCorrection(img, gamma):\n",
        "    table = np.array([((i / 255) ** (gamma)) * 255 for i in range(256)])\n",
        "    return cv2.LUT(img, table)\n",
        "\n",
        "def gamma (grayimg):     \n",
        "    hist, bins = np.histogram(grayimg , bins= np.arange(0,256)) \n",
        "    if(len(hist)!=len(bins)):\n",
        "        hist = np.append(hist, 0 )\n",
        "    index = np.where(hist == max(hist))[0][0]\n",
        "    if (index>160):\n",
        "        return 0.9\n",
        "    else :\n",
        "        if (index < 60): \n",
        "            return 1.1\n",
        "        else : return 1   \n",
        "    \n",
        "def enh(gray) :\n",
        "    # enhacement of the image\n",
        "    gray = gray.astype(np.uint8)\n",
        "    hist = cv2.equalizeHist(gray)\n",
        "    med= cv2.medianBlur(hist,3)\n",
        "    GIC = gammaCorrection(med,gamma(gray))\n",
        "    filterSize =(3, 3)\n",
        "    kernel = cv2.getStructuringElement(cv2.MORPH_RECT, filterSize)  \n",
        "    img1 = gray - cv2.morphologyEx(GIC, cv2.MORPH_BLACKHAT,kernel) - cv2.morphologyEx(GIC, cv2.MORPH_TOPHAT,kernel) \n",
        "    return img1"
      ]
    },
    {
      "cell_type": "code",
      "execution_count": 17,
      "metadata": {
        "id": "4UjeOWx0veJQ"
      },
      "outputs": [],
      "source": [
        "# Preprocessing \n",
        "def prepro (image, name, L1, L2):    \n",
        "    segm,cxi,cyi, radiii, radiie = seg(image)\n",
        "    if len(segm) != 0 :\n",
        "        ref = reflect(segm)\n",
        "        normal = norm(ref,cxi,cyi, radiii, radiie)\n",
        "        if (normal.shape[0]>0):\n",
        "          enhc = enh(normal)\n",
        "          return enhc\n",
        "        else : \n",
        "          L1.append(name)\n",
        "          return []\n",
        "    else : \n",
        "        L2.append(name)\n",
        "        return []"
      ]
    },
    {
      "cell_type": "code",
      "source": [
        "fait=[]\n",
        "for root, dir, images in os.walk('/content/drive/MyDrive/PFE/AMFseg'):\n",
        "  for image in images :\n",
        "    fait.append(image)\n",
        "print(len(fait))"
      ],
      "metadata": {
        "colab": {
          "base_uri": "https://localhost:8080/"
        },
        "id": "C2GHK1_d1IG8",
        "outputId": "f0afbf9d-b9df-43d2-a9b8-c29717c2b091"
      },
      "execution_count": 20,
      "outputs": [
        {
          "output_type": "stream",
          "name": "stdout",
          "text": [
            "0\n"
          ]
        }
      ]
    },
    {
      "cell_type": "code",
      "source": [
        "# creating dataset\n",
        "labels=[]\n",
        "label_id={}\n",
        "norm_error, seg_error = [],[]\n",
        "\n",
        "newpath = '/content/drive/MyDrive/PFE/AMFseg'\n",
        "with open('/content/drive/MyDrive/PFE/AMFseg.csv', 'w', newline='') as file:\n",
        "    writer = csv.writer(file)\n",
        "    for root, dir, images in os.walk('/content/drive/MyDrive/PFE/AMF'):\n",
        "        for img in images:\n",
        "            if (img.endswith('jpg')) or (img.endswith('bmp')) and (not(img in fait)) :      \n",
        "                path= os.path.join(root, img)\n",
        "                label = os.path.basename(os.path.dirname(path))\n",
        "                    \n",
        "                if not (label in labels) :\n",
        "                    labels.append(label)\n",
        "                    label_id [label] = 52 + len(labels)    # MMU fiha 52 classe commencant par 0 l count\n",
        "\n",
        "                imag = cv2.imread(path, cv2.IMREAD_GRAYSCALE)\n",
        "                imag = prepro(imag, img, norm_error, seg_error)\n",
        "\n",
        "                if len(imag) != 0 :\n",
        "                  cv2.imwrite(f'{newpath}/{label}_{img}', imag)   \n",
        "                  writer.writerow([path, label_id [label]])                "
      ],
      "metadata": {
        "colab": {
          "base_uri": "https://localhost:8080/",
          "height": 381
        },
        "id": "G_chwt1t1NDM",
        "outputId": "604a9411-4ec3-4312-9616-761cc2043478"
      },
      "execution_count": 21,
      "outputs": [
        {
          "output_type": "error",
          "ename": "KeyboardInterrupt",
          "evalue": "ignored",
          "traceback": [
            "\u001b[0;31m---------------------------------------------------------------------------\u001b[0m",
            "\u001b[0;31mKeyboardInterrupt\u001b[0m                         Traceback (most recent call last)",
            "\u001b[0;32m<ipython-input-21-610a993795b8>\u001b[0m in \u001b[0;36m<cell line: 6>\u001b[0;34m()\u001b[0m\n\u001b[1;32m     17\u001b[0m \u001b[0;34m\u001b[0m\u001b[0m\n\u001b[1;32m     18\u001b[0m                 \u001b[0mimag\u001b[0m \u001b[0;34m=\u001b[0m \u001b[0mcv2\u001b[0m\u001b[0;34m.\u001b[0m\u001b[0mimread\u001b[0m\u001b[0;34m(\u001b[0m\u001b[0mpath\u001b[0m\u001b[0;34m,\u001b[0m \u001b[0mcv2\u001b[0m\u001b[0;34m.\u001b[0m\u001b[0mIMREAD_GRAYSCALE\u001b[0m\u001b[0;34m)\u001b[0m\u001b[0;34m\u001b[0m\u001b[0;34m\u001b[0m\u001b[0m\n\u001b[0;32m---> 19\u001b[0;31m                 \u001b[0mimag\u001b[0m \u001b[0;34m=\u001b[0m \u001b[0mprepro\u001b[0m\u001b[0;34m(\u001b[0m\u001b[0mimag\u001b[0m\u001b[0;34m,\u001b[0m \u001b[0mimg\u001b[0m\u001b[0;34m)\u001b[0m\u001b[0;34m\u001b[0m\u001b[0;34m\u001b[0m\u001b[0m\n\u001b[0m\u001b[1;32m     20\u001b[0m \u001b[0;34m\u001b[0m\u001b[0m\n\u001b[1;32m     21\u001b[0m                 \u001b[0;32mif\u001b[0m \u001b[0mlen\u001b[0m\u001b[0;34m(\u001b[0m\u001b[0mimag\u001b[0m\u001b[0;34m)\u001b[0m \u001b[0;34m!=\u001b[0m \u001b[0;36m0\u001b[0m \u001b[0;34m:\u001b[0m\u001b[0;34m\u001b[0m\u001b[0;34m\u001b[0m\u001b[0m\n",
            "\u001b[0;32m<ipython-input-17-82bd117019d8>\u001b[0m in \u001b[0;36mprepro\u001b[0;34m(image, name)\u001b[0m\n\u001b[1;32m      3\u001b[0m     \u001b[0mL1\u001b[0m\u001b[0;34m,\u001b[0m\u001b[0mL2\u001b[0m\u001b[0;34m=\u001b[0m\u001b[0;34m[\u001b[0m\u001b[0;34m]\u001b[0m\u001b[0;34m,\u001b[0m\u001b[0;34m[\u001b[0m\u001b[0;34m]\u001b[0m\u001b[0;34m\u001b[0m\u001b[0;34m\u001b[0m\u001b[0m\n\u001b[1;32m      4\u001b[0m \u001b[0;34m\u001b[0m\u001b[0m\n\u001b[0;32m----> 5\u001b[0;31m     \u001b[0msegm\u001b[0m\u001b[0;34m,\u001b[0m\u001b[0mcxi\u001b[0m\u001b[0;34m,\u001b[0m\u001b[0mcyi\u001b[0m\u001b[0;34m,\u001b[0m \u001b[0mradiii\u001b[0m\u001b[0;34m,\u001b[0m \u001b[0mradiie\u001b[0m \u001b[0;34m=\u001b[0m \u001b[0mseg\u001b[0m\u001b[0;34m(\u001b[0m\u001b[0mimage\u001b[0m\u001b[0;34m)\u001b[0m\u001b[0;34m\u001b[0m\u001b[0;34m\u001b[0m\u001b[0m\n\u001b[0m\u001b[1;32m      6\u001b[0m     \u001b[0;32mif\u001b[0m \u001b[0mlen\u001b[0m\u001b[0;34m(\u001b[0m\u001b[0msegm\u001b[0m\u001b[0;34m)\u001b[0m \u001b[0;34m!=\u001b[0m \u001b[0;36m0\u001b[0m \u001b[0;34m:\u001b[0m\u001b[0;34m\u001b[0m\u001b[0;34m\u001b[0m\u001b[0m\n\u001b[1;32m      7\u001b[0m         \u001b[0mref\u001b[0m \u001b[0;34m=\u001b[0m \u001b[0mreflect\u001b[0m\u001b[0;34m(\u001b[0m\u001b[0msegm\u001b[0m\u001b[0;34m)\u001b[0m\u001b[0;34m\u001b[0m\u001b[0;34m\u001b[0m\u001b[0m\n",
            "\u001b[0;32m<ipython-input-13-3493b9275849>\u001b[0m in \u001b[0;36mseg\u001b[0;34m(image)\u001b[0m\n\u001b[1;32m     24\u001b[0m \u001b[0;31m# calculate hough radius\u001b[0m\u001b[0;34m\u001b[0m\u001b[0;34m\u001b[0m\u001b[0m\n\u001b[1;32m     25\u001b[0m     \u001b[0mhough_radiii\u001b[0m \u001b[0;34m=\u001b[0m \u001b[0mnp\u001b[0m\u001b[0;34m.\u001b[0m\u001b[0marange\u001b[0m\u001b[0;34m(\u001b[0m\u001b[0;36m10\u001b[0m\u001b[0;34m,\u001b[0m \u001b[0;36m2000\u001b[0m\u001b[0;34m)\u001b[0m\u001b[0;34m\u001b[0m\u001b[0;34m\u001b[0m\u001b[0m\n\u001b[0;32m---> 26\u001b[0;31m     \u001b[0mhough_resi\u001b[0m \u001b[0;34m=\u001b[0m \u001b[0mhough_circle\u001b[0m\u001b[0;34m(\u001b[0m\u001b[0medgesint\u001b[0m\u001b[0;34m,\u001b[0m \u001b[0mhough_radiii\u001b[0m\u001b[0;34m)\u001b[0m\u001b[0;34m\u001b[0m\u001b[0;34m\u001b[0m\u001b[0m\n\u001b[0m\u001b[1;32m     27\u001b[0m \u001b[0;34m\u001b[0m\u001b[0m\n\u001b[1;32m     28\u001b[0m     \u001b[0mhough_radiie\u001b[0m \u001b[0;34m=\u001b[0m \u001b[0mnp\u001b[0m\u001b[0;34m.\u001b[0m\u001b[0marange\u001b[0m\u001b[0;34m(\u001b[0m\u001b[0;36m50\u001b[0m\u001b[0;34m,\u001b[0m \u001b[0;36m2000\u001b[0m\u001b[0;34m)\u001b[0m\u001b[0;34m\u001b[0m\u001b[0;34m\u001b[0m\u001b[0m\n",
            "\u001b[0;32m/usr/local/lib/python3.9/dist-packages/skimage/transform/hough_transform.py\u001b[0m in \u001b[0;36mhough_circle\u001b[0;34m(image, radius, normalize, full_output)\u001b[0m\n\u001b[1;32m    109\u001b[0m     \"\"\"\n\u001b[1;32m    110\u001b[0m     \u001b[0mradius\u001b[0m \u001b[0;34m=\u001b[0m \u001b[0mnp\u001b[0m\u001b[0;34m.\u001b[0m\u001b[0matleast_1d\u001b[0m\u001b[0;34m(\u001b[0m\u001b[0mnp\u001b[0m\u001b[0;34m.\u001b[0m\u001b[0masarray\u001b[0m\u001b[0;34m(\u001b[0m\u001b[0mradius\u001b[0m\u001b[0;34m)\u001b[0m\u001b[0;34m)\u001b[0m\u001b[0;34m\u001b[0m\u001b[0;34m\u001b[0m\u001b[0m\n\u001b[0;32m--> 111\u001b[0;31m     return _hough_circle(image, radius.astype(np.intp),\n\u001b[0m\u001b[1;32m    112\u001b[0m                          normalize=normalize, full_output=full_output)\n\u001b[1;32m    113\u001b[0m \u001b[0;34m\u001b[0m\u001b[0m\n",
            "\u001b[0;32m/usr/local/lib/python3.9/dist-packages/skimage/transform/_hough_transform.pyx\u001b[0m in \u001b[0;36mskimage.transform._hough_transform._hough_circle\u001b[0;34m()\u001b[0m\n",
            "\u001b[0;32m/usr/local/lib/python3.9/dist-packages/skimage/draw/draw.py\u001b[0m in \u001b[0;36mcircle_perimeter\u001b[0;34m(r, c, radius, method, shape)\u001b[0m\n\u001b[1;32m    482\u001b[0m \u001b[0;34m\u001b[0m\u001b[0m\n\u001b[1;32m    483\u001b[0m \u001b[0;34m\u001b[0m\u001b[0m\n\u001b[0;32m--> 484\u001b[0;31m \u001b[0;32mdef\u001b[0m \u001b[0mcircle_perimeter\u001b[0m\u001b[0;34m(\u001b[0m\u001b[0mr\u001b[0m\u001b[0;34m,\u001b[0m \u001b[0mc\u001b[0m\u001b[0;34m,\u001b[0m \u001b[0mradius\u001b[0m\u001b[0;34m,\u001b[0m \u001b[0mmethod\u001b[0m\u001b[0;34m=\u001b[0m\u001b[0;34m'bresenham'\u001b[0m\u001b[0;34m,\u001b[0m \u001b[0mshape\u001b[0m\u001b[0;34m=\u001b[0m\u001b[0;32mNone\u001b[0m\u001b[0;34m)\u001b[0m\u001b[0;34m:\u001b[0m\u001b[0;34m\u001b[0m\u001b[0;34m\u001b[0m\u001b[0m\n\u001b[0m\u001b[1;32m    485\u001b[0m     \"\"\"Generate circle perimeter coordinates.\n\u001b[1;32m    486\u001b[0m \u001b[0;34m\u001b[0m\u001b[0m\n",
            "\u001b[0;31mKeyboardInterrupt\u001b[0m: "
          ]
        }
      ]
    }
  ]
}