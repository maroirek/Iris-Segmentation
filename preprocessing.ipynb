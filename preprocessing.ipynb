{
 "cells": [
  {
   "cell_type": "code",
   "execution_count": null,
   "metadata": {
    "colab": {
     "base_uri": "https://localhost:8080/"
    },
    "id": "E6s9poO_tlA0",
    "outputId": "66921d9f-2d52-4c6f-a61b-b58832ba22a6"
   },
   "outputs": [
    {
     "name": "stdout",
     "output_type": "stream",
     "text": [
      "Drive already mounted at /content/drive; to attempt to forcibly remount, call drive.mount(\"/content/drive\", force_remount=True).\n"
     ]
    }
   ],
   "source": [
    "from skimage.transform import hough_circle, hough_circle_peaks\n",
    "from skimage.feature import canny\n",
    "import cv2 \n",
    "import numpy as np\n",
    "import pywt\n",
    "from sklearn.model_selection import train_test_split\n",
    "from sklearn.svm import SVC\n",
    "import csv\n",
    "\n",
    "import os\n",
    "from google.colab import drive\n",
    "drive.mount('/content/drive')\n"
   ]
  },
  {
   "cell_type": "code",
   "execution_count": null,
   "metadata": {
    "id": "R2xKgm1Ru0Wb"
   },
   "outputs": [],
   "source": [
    "# Segmentation \n",
    "def mask (image, Fcint, Fcext, cxe, cye, cxi, cyi):\n",
    "    nl= image.shape[0]\n",
    "    nc=  image.shape[1]\n",
    "    xe = np.arange(-cxe[0],nc-cxe[0],1)\n",
    "    ye = np.arange(-cye[0],nl-cye[0],1)\n",
    "    xxe, yye = np.meshgrid(xe, ye, sparse=True)\n",
    "    ze = np.sqrt(xxe*xxe + yye*yye)\n",
    "    xi = np.arange(-cxi[0],nc-cxi[0],1)\n",
    "    yi = np.arange(-cyi[0],nl-cyi[0],1)\n",
    "    xxi, yyi = np.meshgrid(xi, yi, sparse=True)\n",
    "    zi = np.sqrt(xxi*xxi + yyi*yyi)\n",
    "    \n",
    "    return (ze<Fcext)*(Fcint<zi)\n",
    "\n",
    "def seg (image) :   \n",
    "# Thresholding and edge detection\n",
    "    ret1,th1 = cv2.threshold(image,35,255,cv2.THRESH_BINARY)\n",
    "    edgesint= canny(th1, sigma=3, low_threshold=150, high_threshold=255)\n",
    "\n",
    "    ret2,th2 = cv2.threshold(image,100,255,cv2.THRESH_BINARY)\n",
    "    edgesext = canny(th2, sigma=3, low_threshold=150, high_threshold=255)\n",
    "\n",
    "# calculate hough radius\n",
    "    hough_radiii = np.arange(10, 2000)\n",
    "    hough_resi = hough_circle(edgesint, hough_radiii)\n",
    "\n",
    "    hough_radiie = np.arange(50, 2000)\n",
    "    hough_rese = hough_circle(edgesext, hough_radiie)\n",
    "\n",
    "# Select the most prominent 2 circles\n",
    "    accumsi, cxi, cyi, radiii = hough_circle_peaks(hough_resi, hough_radiii,total_num_peaks=1)\n",
    "    accumse, cxe, cye, radiie = hough_circle_peaks(hough_rese, hough_radiie,total_num_peaks=1)\n",
    "    \n",
    "    if ( len(cxi)!= 0 ) and (len(cxe)!= 0) and ( len(cyi)!= 0 ) and (len(cye)!= 0) and (radiii[0]!= 0) and (radiie[0]!= 0) :\n",
    "        Seg = (image) * mask (image, radiii, radiie, cxe, cye, cxi, cyi)\n",
    "        return Seg, cxi[0],cyi[0], radiii[0], radiie[0]\n",
    "    \n",
    "    else : return [], None, None,None, None"
   ]
  },
  {
   "cell_type": "code",
   "execution_count": null,
   "metadata": {
    "id": "RDwkXP-ku8rt"
   },
   "outputs": [],
   "source": [
    "# Reflections \n",
    "def reflect(gray):\n",
    "    # reflections' localizing and enhancement  \n",
    "    ret1,th1 = cv2.threshold(gray,200,255,cv2.THRESH_BINARY)\n",
    "    refpart = gray*(th1//255)\n",
    "    refpart  = refpart.astype('uint8')\n",
    "    ref_HE= cv2.equalizeHist(refpart)\n",
    "    \n",
    "    # image totally enhaced \n",
    "    img_enh_f = gray - th1 + ref_HE\n",
    "\n",
    "    for i in range(img_enh_f.shape[0]):\n",
    "      for j in range(img_enh_f.shape[1]):\n",
    "        img_enh_f[i][j]= max(0,img_enh_f[i][j])  # didnt find relu function in openCV\n",
    "\n",
    "\n",
    "    return img_enh_f "
   ]
  },
  {
   "cell_type": "code",
   "execution_count": null,
   "metadata": {
    "id": "_48On8t2vGej"
   },
   "outputs": [],
   "source": [
    "# Normalisation\n",
    "def norm (image, cxi,cyi, radiii, radiie):\n",
    "    if (cxi != None) & (cyi != None) & (radiii != None) & (radiie != None):\n",
    "      theta = np.arange(0, 360, 1) #theta\n",
    "      rad = np.arange(0, (radiie-radiii), 1) #radius\n",
    "      \n",
    "      normal = np.empty(shape = [rad.size, theta.size])\n",
    "      \n",
    "      for t in theta:\n",
    "          for r in rad:\n",
    "              polarX = int(((r+radiii) * np.cos(t*3.14/180)) + cxi)\n",
    "              polarY = int(((r+radiii) * np.sin(t*3.14/180)) + cyi)\n",
    "              if (polarX < image.shape[1]) and (polarY < image.shape[0]):\n",
    "                  normal[int(r)][int(t) - 1] = image[polarY][polarX]\n",
    "              else : \n",
    "                  normal[int(r)][int(t) - 1] = 0\n",
    "              # normal = normal.astype('uint8')\n",
    "      return normal\n",
    "    else : return []"
   ]
  },
  {
   "cell_type": "code",
   "execution_count": null,
   "metadata": {
    "id": "A3sEqQSGvN_S"
   },
   "outputs": [],
   "source": [
    "# Enhacement\n",
    "def gammaCorrection(img, gamma):\n",
    "    table = np.array([((i / 255) ** (gamma)) * 255 for i in range(256)])\n",
    "    return cv2.LUT(img, table)\n",
    "\n",
    "def gamma (grayimg):     \n",
    "    hist, bins = np.histogram(grayimg , bins= np.arange(0,256)) \n",
    "    if(len(hist)!=len(bins)):\n",
    "        hist = np.append(hist, 0 )\n",
    "    index = np.where(hist == max(hist))[0][0]\n",
    "    if (index>160):\n",
    "        return 0.9\n",
    "    else :\n",
    "        if (index < 60): \n",
    "            return 1.1\n",
    "        else : return 1   \n",
    "    \n",
    "def enh(gray) :\n",
    "    # enhacement of the image\n",
    "    gray = gray.astype(np.uint8)\n",
    "    hist = cv2.equalizeHist(gray)\n",
    "    med= cv2.medianBlur(hist,3)\n",
    "    GIC = gammaCorrection(med,gamma(gray))\n",
    "    filterSize =(3, 3)\n",
    "    kernel = cv2.getStructuringElement(cv2.MORPH_RECT, filterSize)  \n",
    "    img1 = gray - cv2.morphologyEx(GIC, cv2.MORPH_BLACKHAT,kernel) - cv2.morphologyEx(GIC, cv2.MORPH_TOPHAT,kernel) \n",
    "    return img1"
   ]
  },
  {
   "cell_type": "code",
   "execution_count": null,
   "metadata": {
    "id": "4UjeOWx0veJQ"
   },
   "outputs": [],
   "source": [
    "# Preprocessing \n",
    "def prepro (image):\n",
    "    segm,cxi,cyi, radiii, radiie = seg(image)\n",
    "    \n",
    "    if len(segm) != 0 :\n",
    "        ref = reflect(segm)\n",
    "        normal = norm(ref,cxi,cyi, radiii, radiie)\n",
    "        if (normal.shape[0]>0):\n",
    "          enhc = enh(normal)\n",
    "        return enhc\n",
    "    else : \n",
    "        return segm"
   ]
  },
  {
   "cell_type": "code",
   "execution_count": null,
   "metadata": {
    "id": "22f2rqAdv-6i"
   },
   "outputs": [],
   "source": [
    "# creating dataset\n",
    "labels=[]\n",
    "label_id={}\n",
    "\n",
    "x=[]\n",
    "y=[]\n",
    "\n",
    "newpath = '/content/drive/MyDrive/PFE/casiaseg'\n",
    "with open('/content/drive/MyDrive/PFE/casiaseg.csv', 'w', newline='') as file:\n",
    "    writer = csv.writer(file)\n",
    "    for root, dir, images in os.walk('/content/drive/MyDrive/PFE/casiamodif'):\n",
    "        for img in images:\n",
    "            if img.endswith('jpg') :\n",
    "                path= os.path.join(root, img)\n",
    "                label = img[0:5]\n",
    "                    \n",
    "                if not (label in labels) :\n",
    "                    labels.append(label)\n",
    "                    label_id [label] = len(labels)\n",
    "\n",
    "                imag = cv2.imread(path, cv2.IMREAD_GRAYSCALE)\n",
    "                imag = prepro(imag)\n",
    "\n",
    "                if len(imag) != 0 :\n",
    "                  cv2.imwrite(f'{newpath}/{img}', imag)\n",
    "                  writer.writerow([path, label_id [label]]) \n",
    "\n",
    "             # LL  = pywt.dwt2(img, 'bior2.2' )[0]\n",
    "\n",
    "                # x.append(LL)\n",
    "#                 y.append(label_id[label])\n",
    "# # x= np.array(x)\n",
    "# y= np.array(y)\n"
   ]
  },
  {
   "cell_type": "code",
   "execution_count": null,
   "metadata": {
    "colab": {
     "base_uri": "https://localhost:8080/"
    },
    "id": "yEzTivbd_KsB",
    "outputId": "e7b45818-f7a9-44f4-f5f0-e23f740d5b67"
   },
   "outputs": [
    {
     "data": {
      "text/plain": [
       "(32044,)"
      ]
     },
     "execution_count": 17,
     "metadata": {},
     "output_type": "execute_result"
    }
   ],
   "source": [
    "y.shape"
   ]
  },
  {
   "cell_type": "code",
   "execution_count": null,
   "metadata": {
    "colab": {
     "base_uri": "https://localhost:8080/",
     "height": 447
    },
    "id": "Qe5lVOHSP20Q",
    "outputId": "2a201ea1-8b34-47d7-aba9-e315092f7e24"
   },
   "outputs": [
    {
     "data": {
      "text/plain": [
       "[<matplotlib.lines.Line2D at 0x7f669ee5e970>]"
      ]
     },
     "execution_count": 25,
     "metadata": {},
     "output_type": "execute_result"
    },
    {
     "data": {
      "image/png": "[encoded data removed]",
      "text/plain": [
       "<Figure size 640x480 with 1 Axes>"
      ]
     },
     "metadata": {},
     "output_type": "display_data"
    }
   ],
   "source": [
    "from skimage import exposure\n",
    "import matplotlib.pyplot as plt\n",
    "\n",
    "hist = exposure.histogram(y)\n",
    "plt.plot(hist[0])"
   ]
  },
  {
   "cell_type": "code",
   "execution_count": null,
   "metadata": {
    "colab": {
     "base_uri": "https://localhost:8080/",
     "height": 200
    },
    "id": "emHW_-AbUqb2",
    "outputId": "f0ef53ec-31ac-4920-e40e-81b9cc7db127"
   },
   "outputs": [
    {
     "ename": "AttributeError",
     "evalue": "ignored",
     "output_type": "error",
     "traceback": [
      "\u001b[0;31m---------------------------------------------------------------------------\u001b[0m",
      "\u001b[0;31mAttributeError\u001b[0m                            Traceback (most recent call last)",
      "\u001b[0;32m<ipython-input-39-d7c290a3e68e>\u001b[0m in \u001b[0;36m<cell line: 4>\u001b[0;34m()\u001b[0m\n\u001b[1;32m      2\u001b[0m \u001b[0mxtr\u001b[0m\u001b[0;34m,\u001b[0m \u001b[0mxts\u001b[0m\u001b[0;34m,\u001b[0m \u001b[0mytr\u001b[0m\u001b[0;34m,\u001b[0m \u001b[0myts\u001b[0m \u001b[0;34m=\u001b[0m \u001b[0mtrain_test_split\u001b[0m\u001b[0;34m(\u001b[0m\u001b[0mx\u001b[0m\u001b[0;34m,\u001b[0m\u001b[0my\u001b[0m\u001b[0;34m,\u001b[0m \u001b[0mtest_size\u001b[0m\u001b[0;34m=\u001b[0m\u001b[0;36m0.2\u001b[0m\u001b[0;34m)\u001b[0m\u001b[0;34m\u001b[0m\u001b[0;34m\u001b[0m\u001b[0m\n\u001b[1;32m      3\u001b[0m \u001b[0mmodel\u001b[0m \u001b[0;34m=\u001b[0m \u001b[0mSVC\u001b[0m\u001b[0;34m(\u001b[0m\u001b[0;34m)\u001b[0m\u001b[0;34m\u001b[0m\u001b[0;34m\u001b[0m\u001b[0m\n\u001b[0;32m----> 4\u001b[0;31m \u001b[0mmodel\u001b[0m\u001b[0;34m.\u001b[0m\u001b[0mfit_transform\u001b[0m\u001b[0;34m(\u001b[0m\u001b[0mxtr\u001b[0m\u001b[0;34m,\u001b[0m \u001b[0mytr\u001b[0m\u001b[0;34m)\u001b[0m\u001b[0;34m\u001b[0m\u001b[0;34m\u001b[0m\u001b[0m\n\u001b[0m",
      "\u001b[0;31mAttributeError\u001b[0m: 'SVC' object has no attribute 'fit_transform'"
     ]
    }
   ],
   "source": [
    "# Dividing the data set into train and test and training the model\n",
    "xtr, xts, ytr, yts = train_test_split(x,y, test_size=0.2)\n",
    "model = SVC(kernel='linear')\n",
    "model.fit(xtr, ytr)"
   ]
  }
 ],
 "metadata": {
  "colab": {
   "provenance": []
  },
  "kernelspec": {
   "display_name": "Python 3 (ipykernel)",
   "language": "python",
   "name": "python3"
  },
  "language_info": {
   "codemirror_mode": {
    "name": "ipython",
    "version": 3
   },
   "file_extension": ".py",
   "mimetype": "text/x-python",
   "name": "python",
   "nbconvert_exporter": "python",
   "pygments_lexer": "ipython3",
   "version": "3.9.16"
  }
 },
 "nbformat": 4,
 "nbformat_minor": 4
}
