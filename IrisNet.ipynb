{
 "cells": [
  {
   "cell_type": "code",
   "execution_count": 1,
   "metadata": {},
   "outputs": [],
   "source": [
    "import tensorflow as tf\n",
    "import os\n",
    "import numpy as np\n",
    "import matplotlib.pyplot as plt\n",
    "from sklearn.model_selection import train_test_split\n",
    "import cv2 as cv\n",
    "from final import prepro"
   ]
  },
  {
   "cell_type": "code",
   "execution_count": 2,
   "metadata": {},
   "outputs": [
    {
     "ename": "KeyboardInterrupt",
     "evalue": "",
     "output_type": "error",
     "traceback": [
      "\u001b[1;31m---------------------------------------------------------------------------\u001b[0m",
      "\u001b[1;31mKeyboardInterrupt\u001b[0m                         Traceback (most recent call last)",
      "\u001b[1;32md:\\Spé\\3eme_annee\\PFE\\PFE\\Code\\Final\\CNN.ipynb Cell 2\u001b[0m in \u001b[0;36m<cell line: 7>\u001b[1;34m()\u001b[0m\n\u001b[0;32m     <a href='vscode-notebook-cell:/d%3A/Sp%C3%A9/3eme_annee/PFE/PFE/Code/Final/CNN.ipynb#W1sZmlsZQ%3D%3D?line=15'>16</a>\u001b[0m img \u001b[39m=\u001b[39m cv\u001b[39m.\u001b[39mimread(path, cv\u001b[39m.\u001b[39mIMREAD_GRAYSCALE)\n\u001b[0;32m     <a href='vscode-notebook-cell:/d%3A/Sp%C3%A9/3eme_annee/PFE/PFE/Code/Final/CNN.ipynb#W1sZmlsZQ%3D%3D?line=16'>17</a>\u001b[0m img \u001b[39m=\u001b[39m cv\u001b[39m.\u001b[39mresize(img, (\u001b[39m128\u001b[39m,\u001b[39m360\u001b[39m), interpolation \u001b[39m=\u001b[39m cv\u001b[39m.\u001b[39mINTER_AREA)\n\u001b[1;32m---> <a href='vscode-notebook-cell:/d%3A/Sp%C3%A9/3eme_annee/PFE/PFE/Code/Final/CNN.ipynb#W1sZmlsZQ%3D%3D?line=17'>18</a>\u001b[0m img \u001b[39m=\u001b[39m prepro(img)\n\u001b[0;32m     <a href='vscode-notebook-cell:/d%3A/Sp%C3%A9/3eme_annee/PFE/PFE/Code/Final/CNN.ipynb#W1sZmlsZQ%3D%3D?line=18'>19</a>\u001b[0m x\u001b[39m.\u001b[39mappend(img)\n\u001b[0;32m     <a href='vscode-notebook-cell:/d%3A/Sp%C3%A9/3eme_annee/PFE/PFE/Code/Final/CNN.ipynb#W1sZmlsZQ%3D%3D?line=19'>20</a>\u001b[0m y\u001b[39m.\u001b[39mappend(label_id[label])\n",
      "File \u001b[1;32md:\\Spé\\3eme_annee\\PFE\\PFE\\Code\\Final\\final.py:11\u001b[0m, in \u001b[0;36mprepro\u001b[1;34m(image)\u001b[0m\n\u001b[0;32m      9\u001b[0m \u001b[39mdef\u001b[39;00m \u001b[39mprepro\u001b[39m (image):\n\u001b[0;32m     10\u001b[0m     enhc \u001b[39m=\u001b[39m enh(image)\n\u001b[1;32m---> 11\u001b[0m     segm,cxi,cyi, radiii, radiie \u001b[39m=\u001b[39m seg(enhc)\n\u001b[0;32m     13\u001b[0m     \u001b[39mif\u001b[39;00m \u001b[39mlen\u001b[39m(segm) \u001b[39m!=\u001b[39m \u001b[39m0\u001b[39m :\n\u001b[0;32m     14\u001b[0m         ref \u001b[39m=\u001b[39m reflect(segm)\n",
      "File \u001b[1;32md:\\Spé\\3eme_annee\\PFE\\PFE\\Code\\Final\\segment.py:36\u001b[0m, in \u001b[0;36mseg\u001b[1;34m(image)\u001b[0m\n\u001b[0;32m     33\u001b[0m     hough_resi \u001b[39m=\u001b[39m hough_circle(edgesint, hough_radiii)\n\u001b[0;32m     35\u001b[0m     hough_radiie \u001b[39m=\u001b[39m np\u001b[39m.\u001b[39marange(\u001b[39m50\u001b[39m, \u001b[39m2000\u001b[39m)\n\u001b[1;32m---> 36\u001b[0m     hough_rese \u001b[39m=\u001b[39m hough_circle(edgesext, hough_radiie)\n\u001b[0;32m     38\u001b[0m \u001b[39m# Select the most prominent 2 circles\u001b[39;00m\n\u001b[0;32m     39\u001b[0m     accumsi, cxi, cyi, radiii \u001b[39m=\u001b[39m hough_circle_peaks(hough_resi, hough_radiii,total_num_peaks\u001b[39m=\u001b[39m\u001b[39m1\u001b[39m)\n",
      "File \u001b[1;32mc:\\Users\\21379\\anaconda3\\lib\\site-packages\\skimage\\transform\\hough_transform.py:112\u001b[0m, in \u001b[0;36mhough_circle\u001b[1;34m(image, radius, normalize, full_output)\u001b[0m\n\u001b[0;32m     73\u001b[0m \u001b[39m\"\"\"Perform a circular Hough transform.\u001b[39;00m\n\u001b[0;32m     74\u001b[0m \n\u001b[0;32m     75\u001b[0m \u001b[39mParameters\u001b[39;00m\n\u001b[1;32m   (...)\u001b[0m\n\u001b[0;32m    109\u001b[0m \n\u001b[0;32m    110\u001b[0m \u001b[39m\"\"\"\u001b[39;00m\n\u001b[0;32m    111\u001b[0m radius \u001b[39m=\u001b[39m np\u001b[39m.\u001b[39matleast_1d(np\u001b[39m.\u001b[39masarray(radius))\n\u001b[1;32m--> 112\u001b[0m \u001b[39mreturn\u001b[39;00m _hough_circle(image, radius\u001b[39m.\u001b[39;49mastype(np\u001b[39m.\u001b[39;49mintp),\n\u001b[0;32m    113\u001b[0m                      normalize\u001b[39m=\u001b[39;49mnormalize, full_output\u001b[39m=\u001b[39;49mfull_output)\n",
      "File \u001b[1;32mc:\\Users\\21379\\anaconda3\\lib\\site-packages\\skimage\\transform\\_hough_transform.pyx:76\u001b[0m, in \u001b[0;36mskimage.transform._hough_transform._hough_circle\u001b[1;34m()\u001b[0m\n",
      "File \u001b[1;32mc:\\Users\\21379\\anaconda3\\lib\\site-packages\\skimage\\draw\\draw.py:484\u001b[0m, in \u001b[0;36mcircle_perimeter\u001b[1;34m(r, c, radius, method, shape)\u001b[0m\n\u001b[0;32m    438\u001b[0m     \u001b[39m\"\"\"Generate coordinates of pixels within polygon.\u001b[39;00m\n\u001b[0;32m    439\u001b[0m \n\u001b[0;32m    440\u001b[0m \u001b[39m    Parameters\u001b[39;00m\n\u001b[1;32m   (...)\u001b[0m\n\u001b[0;32m    479\u001b[0m \n\u001b[0;32m    480\u001b[0m \u001b[39m    \"\"\"\u001b[39;00m\n\u001b[0;32m    481\u001b[0m     \u001b[39mreturn\u001b[39;00m _polygon(r, c, shape)\n\u001b[1;32m--> 484\u001b[0m \u001b[39mdef\u001b[39;00m \u001b[39mcircle_perimeter\u001b[39m(r, c, radius, method\u001b[39m=\u001b[39m\u001b[39m'\u001b[39m\u001b[39mbresenham\u001b[39m\u001b[39m'\u001b[39m, shape\u001b[39m=\u001b[39m\u001b[39mNone\u001b[39;00m):\n\u001b[0;32m    485\u001b[0m     \u001b[39m\"\"\"Generate circle perimeter coordinates.\u001b[39;00m\n\u001b[0;32m    486\u001b[0m \n\u001b[0;32m    487\u001b[0m \u001b[39m    Parameters\u001b[39;00m\n\u001b[1;32m   (...)\u001b[0m\n\u001b[0;32m    542\u001b[0m \u001b[39m           [0, 0, 0, 0, 0, 0, 0, 0, 0, 0]], dtype=uint8)\u001b[39;00m\n\u001b[0;32m    543\u001b[0m \u001b[39m    \"\"\"\u001b[39;00m\n\u001b[0;32m    544\u001b[0m     \u001b[39mreturn\u001b[39;00m _circle_perimeter(r, c, radius, method, shape)\n",
      "\u001b[1;31mKeyboardInterrupt\u001b[0m: "
     ]
    }
   ],
   "source": [
    "labels=[]\n",
    "x=[]\n",
    "y=[]\n",
    "id=0\n",
    "label_id={}\n",
    "\n",
    "for root, dir, images in os.walk('MMU-Iris-Database'):\n",
    "    for image in images:\n",
    "        if image.endswith('bmp'):\n",
    "            path= os.path.join(root, image)\n",
    "            label = os.path.basename(os.path.dirname(path)) \n",
    "                 \n",
    "            if not (label in labels) :\n",
    "                labels.append(label)\n",
    "                label_id [label] = len(labels)-1\n",
    "            img = cv.imread(path, cv.IMREAD_GRAYSCALE)\n",
    "            img = cv.resize(img, (128,360), interpolation = cv.INTER_AREA)\n",
    "            img = prepro(img)\n",
    "            x.append(img)\n",
    "            y.append(label_id[label])\n",
    "x= np.array(x)\n",
    "y= np.array(y)\n",
    "print(x.shape)\n",
    "print(y)"
   ]
  },
  {
   "cell_type": "code",
   "execution_count": 13,
   "metadata": {},
   "outputs": [],
   "source": [
    "xtr, xts, ytr, yts = train_test_split(x,y, test_size=0.2)"
   ]
  },
  {
   "cell_type": "code",
   "execution_count": 2,
   "metadata": {},
   "outputs": [
    {
     "name": "stdout",
     "output_type": "stream",
     "text": [
      "Model: \"sequential\"\n",
      "_________________________________________________________________\n",
      " Layer (type)                Output Shape              Param #   \n",
      "=================================================================\n",
      " conv2d (Conv2D)             (None, 30, 30, 96)        34944     \n",
      "                                                                 \n",
      " max_pooling2d (MaxPooling2D  (None, 15, 15, 96)       0         \n",
      " )                                                               \n",
      "                                                                 \n",
      " zero_padding2d (ZeroPadding  (None, 19, 19, 96)       0         \n",
      " 2D)                                                             \n",
      "                                                                 \n",
      " conv2d_1 (Conv2D)           (None, 17, 17, 16)        13840     \n",
      "                                                                 \n",
      " max_pooling2d_1 (MaxPooling  (None, 8, 8, 16)         0         \n",
      " 2D)                                                             \n",
      "                                                                 \n",
      " zero_padding2d_1 (ZeroPaddi  (None, 10, 10, 16)       0         \n",
      " ng2D)                                                           \n",
      "                                                                 \n",
      " conv2d_2 (Conv2D)           (None, 6, 6, 8)           3208      \n",
      "                                                                 \n",
      " max_pooling2d_2 (MaxPooling  (None, 3, 3, 8)          0         \n",
      " 2D)                                                             \n",
      "                                                                 \n",
      " flatten (Flatten)           (None, 72)                0         \n",
      "                                                                 \n",
      " dense (Dense)               (None, 4096)              299008    \n",
      "                                                                 \n",
      " dropout (Dropout)           (None, 4096)              0         \n",
      "                                                                 \n",
      " dense_1 (Dense)             (None, 2048)              8390656   \n",
      "                                                                 \n",
      " dropout_1 (Dropout)         (None, 2048)              0         \n",
      "                                                                 \n",
      " dense_2 (Dense)             (None, 46)                94254     \n",
      "                                                                 \n",
      "=================================================================\n",
      "Total params: 8,835,910\n",
      "Trainable params: 8,835,910\n",
      "Non-trainable params: 0\n",
      "_________________________________________________________________\n"
     ]
    }
   ],
   "source": [
    "CNN = tf.keras.models.Sequential([\n",
    "    tf.keras.layers.Input(shape=(128,128,3)),\n",
    "    tf.keras.layers.Conv2D(96, (11,11), strides = (4,4), activation='relu'),\n",
    "    tf.keras.layers.MaxPool2D(),\n",
    "    tf.keras.layers.ZeroPadding2D(padding= (2,2)),\n",
    "    tf.keras.layers.Conv2D(16, (3, 3), activation='relu'),\n",
    "    tf.keras.layers.MaxPool2D(),\n",
    "    tf.keras.layers.ZeroPadding2D(padding= (1,1)),\n",
    "    tf.keras.layers.Conv2D(8, (5, 5), activation='relu'),\n",
    "    tf.keras.layers.MaxPool2D(),\n",
    "    tf.keras.layers.Flatten(),\n",
    "    tf.keras.layers.Dense(4096, activation='relu'),\n",
    "    tf.keras.layers.Dropout(0.2),\n",
    "    tf.keras.layers.Dense(2048, activation='relu'),\n",
    "    tf.keras.layers.Dropout(0.2),\n",
    "    tf.keras.layers.Dense(46, activation='softmax')\n",
    "                             ])\n",
    "\n",
    "CNN.compile(optimizer='adam', loss='sparse_categorical_crossentropy', metrics=[\"accuracy\"])\n",
    "CNN.summary()\n",
    "    \n",
    "# networkX python library for graphs theory "
   ]
  },
  {
   "cell_type": "code",
   "execution_count": 15,
   "metadata": {},
   "outputs": [
    {
     "name": "stdout",
     "output_type": "stream",
     "text": [
      "Epoch 1/50\n",
      "4/4 [==============================] - 1s 175ms/step - loss: 2.1902 - accuracy: 0.2167\n",
      "Epoch 2/50\n",
      "4/4 [==============================] - 1s 174ms/step - loss: 2.1378 - accuracy: 0.2500\n",
      "Epoch 3/50\n",
      "4/4 [==============================] - 1s 172ms/step - loss: 2.1163 - accuracy: 0.2583\n",
      "Epoch 4/50\n",
      "4/4 [==============================] - 1s 216ms/step - loss: 2.1409 - accuracy: 0.2250\n",
      "Epoch 5/50\n",
      "4/4 [==============================] - 1s 159ms/step - loss: 2.1590 - accuracy: 0.2833\n",
      "Epoch 6/50\n",
      "4/4 [==============================] - 1s 198ms/step - loss: 2.0204 - accuracy: 0.2500\n",
      "Epoch 7/50\n",
      "4/4 [==============================] - 1s 162ms/step - loss: 2.1004 - accuracy: 0.2667\n",
      "Epoch 8/50\n",
      "4/4 [==============================] - 1s 158ms/step - loss: 1.9797 - accuracy: 0.3083\n",
      "Epoch 9/50\n",
      "4/4 [==============================] - 1s 183ms/step - loss: 1.9432 - accuracy: 0.3583\n",
      "Epoch 10/50\n",
      "4/4 [==============================] - 1s 169ms/step - loss: 1.9260 - accuracy: 0.2417\n",
      "Epoch 11/50\n",
      "4/4 [==============================] - 1s 160ms/step - loss: 1.8495 - accuracy: 0.3167\n",
      "Epoch 12/50\n",
      "4/4 [==============================] - 1s 185ms/step - loss: 1.7604 - accuracy: 0.3250\n",
      "Epoch 13/50\n",
      "4/4 [==============================] - 1s 216ms/step - loss: 1.6939 - accuracy: 0.3250\n",
      "Epoch 14/50\n",
      "4/4 [==============================] - 1s 164ms/step - loss: 1.6392 - accuracy: 0.4000\n",
      "Epoch 15/50\n",
      "4/4 [==============================] - 1s 155ms/step - loss: 1.5559 - accuracy: 0.4333\n",
      "Epoch 16/50\n",
      "4/4 [==============================] - 1s 184ms/step - loss: 1.5793 - accuracy: 0.4083\n",
      "Epoch 17/50\n",
      "4/4 [==============================] - 1s 166ms/step - loss: 1.5080 - accuracy: 0.4500\n",
      "Epoch 18/50\n",
      "4/4 [==============================] - 1s 204ms/step - loss: 1.5651 - accuracy: 0.4167\n",
      "Epoch 19/50\n",
      "4/4 [==============================] - 1s 205ms/step - loss: 1.5417 - accuracy: 0.4750\n",
      "Epoch 20/50\n",
      "4/4 [==============================] - 1s 153ms/step - loss: 1.5112 - accuracy: 0.4500\n",
      "Epoch 21/50\n",
      "4/4 [==============================] - 1s 161ms/step - loss: 1.5154 - accuracy: 0.4500\n",
      "Epoch 22/50\n",
      "4/4 [==============================] - 1s 174ms/step - loss: 1.4799 - accuracy: 0.4167\n",
      "Epoch 23/50\n",
      "4/4 [==============================] - 1s 240ms/step - loss: 1.4778 - accuracy: 0.4333\n",
      "Epoch 24/50\n",
      "4/4 [==============================] - 1s 158ms/step - loss: 1.6961 - accuracy: 0.3750\n",
      "Epoch 25/50\n",
      "4/4 [==============================] - 1s 215ms/step - loss: 1.4750 - accuracy: 0.4083\n",
      "Epoch 26/50\n",
      "4/4 [==============================] - 1s 170ms/step - loss: 1.4188 - accuracy: 0.4250\n",
      "Epoch 27/50\n",
      "4/4 [==============================] - 1s 166ms/step - loss: 1.3565 - accuracy: 0.4583\n",
      "Epoch 28/50\n",
      "4/4 [==============================] - 1s 158ms/step - loss: 1.4144 - accuracy: 0.4750\n",
      "Epoch 29/50\n",
      "4/4 [==============================] - 1s 163ms/step - loss: 1.5634 - accuracy: 0.4417\n",
      "Epoch 30/50\n",
      "4/4 [==============================] - 1s 178ms/step - loss: 1.4847 - accuracy: 0.3667\n",
      "Epoch 31/50\n",
      "4/4 [==============================] - 1s 154ms/step - loss: 1.4516 - accuracy: 0.4167\n",
      "Epoch 32/50\n",
      "4/4 [==============================] - 1s 154ms/step - loss: 1.4335 - accuracy: 0.4583\n",
      "Epoch 33/50\n",
      "4/4 [==============================] - 1s 159ms/step - loss: 1.4420 - accuracy: 0.4000\n",
      "Epoch 34/50\n",
      "4/4 [==============================] - 1s 152ms/step - loss: 1.4663 - accuracy: 0.4917\n",
      "Epoch 35/50\n",
      "4/4 [==============================] - 1s 153ms/step - loss: 1.2959 - accuracy: 0.4583\n",
      "Epoch 36/50\n",
      "4/4 [==============================] - 1s 161ms/step - loss: 1.6388 - accuracy: 0.4167\n",
      "Epoch 37/50\n",
      "4/4 [==============================] - 1s 147ms/step - loss: 1.5702 - accuracy: 0.4250\n",
      "Epoch 38/50\n",
      "4/4 [==============================] - 1s 201ms/step - loss: 1.2863 - accuracy: 0.5500\n",
      "Epoch 39/50\n",
      "4/4 [==============================] - 1s 164ms/step - loss: 1.3193 - accuracy: 0.5167\n",
      "Epoch 40/50\n",
      "4/4 [==============================] - 1s 153ms/step - loss: 1.0959 - accuracy: 0.6167\n",
      "Epoch 41/50\n",
      "4/4 [==============================] - 1s 164ms/step - loss: 1.1242 - accuracy: 0.4917\n",
      "Epoch 42/50\n",
      "4/4 [==============================] - 1s 164ms/step - loss: 1.0767 - accuracy: 0.5750\n",
      "Epoch 43/50\n",
      "4/4 [==============================] - 1s 159ms/step - loss: 1.0203 - accuracy: 0.6333\n",
      "Epoch 44/50\n",
      "4/4 [==============================] - 1s 152ms/step - loss: 0.9279 - accuracy: 0.7083\n",
      "Epoch 45/50\n",
      "4/4 [==============================] - 1s 174ms/step - loss: 1.2073 - accuracy: 0.5500\n",
      "Epoch 46/50\n",
      "4/4 [==============================] - 1s 156ms/step - loss: 1.1976 - accuracy: 0.5833\n",
      "Epoch 47/50\n",
      "4/4 [==============================] - 1s 154ms/step - loss: 1.0050 - accuracy: 0.6167\n",
      "Epoch 48/50\n",
      "4/4 [==============================] - 1s 164ms/step - loss: 0.9962 - accuracy: 0.6333\n",
      "Epoch 49/50\n",
      "4/4 [==============================] - 1s 155ms/step - loss: 1.0553 - accuracy: 0.6000\n",
      "Epoch 50/50\n",
      "4/4 [==============================] - 1s 171ms/step - loss: 0.9250 - accuracy: 0.6667\n"
     ]
    },
    {
     "data": {
      "text/plain": [
       "<keras.callbacks.History at 0x263fe46e9d0>"
      ]
     },
     "execution_count": 15,
     "metadata": {},
     "output_type": "execute_result"
    }
   ],
   "source": [
    "# CNN training\n",
    "CNN.fit(xtr,ytr,epochs=50)"
   ]
  },
  {
   "cell_type": "code",
   "execution_count": 16,
   "metadata": {},
   "outputs": [
    {
     "name": "stdout",
     "output_type": "stream",
     "text": [
      "1/1 [==============================] - 0s 486ms/step - loss: 3.2005 - accuracy: 0.3667\n"
     ]
    }
   ],
   "source": [
    "loss, acc = CNN.evaluate(xts,yts)"
   ]
  }
 ],
 "metadata": {
  "kernelspec": {
   "display_name": "base",
   "language": "python",
   "name": "python3"
  },
  "language_info": {
   "codemirror_mode": {
    "name": "ipython",
    "version": 3
   },
   "file_extension": ".py",
   "mimetype": "text/x-python",
   "name": "python",
   "nbconvert_exporter": "python",
   "pygments_lexer": "ipython3",
   "version": "3.9.12"
  },
  "orig_nbformat": 4
 },
 "nbformat": 4,
 "nbformat_minor": 2
}
